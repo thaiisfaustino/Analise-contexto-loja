{
 "cells": [
  {
   "cell_type": "code",
   "execution_count": 101,
   "metadata": {},
   "outputs": [],
   "source": [
    "import pandas as pd\n",
    "import matplotlib.pyplot as plt\n",
    "import numpy as np\n",
    "import seaborn as sns\n",
    "from dateutil.relativedelta import relativedelta\n",
    "from matplotlib.ticker import PercentFormatter"
   ]
  },
  {
   "cell_type": "code",
   "execution_count": 102,
   "metadata": {},
   "outputs": [],
   "source": [
    "df_clientes = pd.read_excel('../dataset/caso_estudo.xlsx', sheet_name='clientes')\n",
    "df_lojas = pd.read_excel('../dataset/caso_estudo.xlsx', sheet_name='lojas')\n",
    "df_produtos = pd.read_excel('../dataset/caso_estudo.xlsx', sheet_name='produtos')\n",
    "df_vendas = pd.read_excel('../dataset/caso_estudo.xlsx', sheet_name='vendas')\n",
    "df_pagamentos = pd.read_excel('../dataset/caso_estudo.xlsx', sheet_name='pagamentos')"
   ]
  },
  {
   "cell_type": "markdown",
   "metadata": {},
   "source": [
    "# Analise preliminar"
   ]
  },
  {
   "cell_type": "markdown",
   "metadata": {},
   "source": [
    "### df_clientes"
   ]
  },
  {
   "cell_type": "code",
   "execution_count": 103,
   "metadata": {},
   "outputs": [
    {
     "data": {
      "text/html": [
       "<div>\n",
       "<style scoped>\n",
       "    .dataframe tbody tr th:only-of-type {\n",
       "        vertical-align: middle;\n",
       "    }\n",
       "\n",
       "    .dataframe tbody tr th {\n",
       "        vertical-align: top;\n",
       "    }\n",
       "\n",
       "    .dataframe thead th {\n",
       "        text-align: right;\n",
       "    }\n",
       "</style>\n",
       "<table border=\"1\" class=\"dataframe\">\n",
       "  <thead>\n",
       "    <tr style=\"text-align: right;\">\n",
       "      <th></th>\n",
       "      <th>id</th>\n",
       "      <th>nome</th>\n",
       "      <th>sexo</th>\n",
       "      <th>dt_nasc</th>\n",
       "    </tr>\n",
       "  </thead>\n",
       "  <tbody>\n",
       "    <tr>\n",
       "      <th>744</th>\n",
       "      <td>745</td>\n",
       "      <td>Otávio Alves</td>\n",
       "      <td>M</td>\n",
       "      <td>9/8/1957</td>\n",
       "    </tr>\n",
       "    <tr>\n",
       "      <th>541</th>\n",
       "      <td>542</td>\n",
       "      <td>Nicole Barbosa</td>\n",
       "      <td>F</td>\n",
       "      <td>3/23/1935</td>\n",
       "    </tr>\n",
       "    <tr>\n",
       "      <th>411</th>\n",
       "      <td>412</td>\n",
       "      <td>Pedro Oliveira</td>\n",
       "      <td>M</td>\n",
       "      <td>2/26/1996</td>\n",
       "    </tr>\n",
       "    <tr>\n",
       "      <th>711</th>\n",
       "      <td>712</td>\n",
       "      <td>Mateus Almeida</td>\n",
       "      <td>M</td>\n",
       "      <td>4/16/1949</td>\n",
       "    </tr>\n",
       "    <tr>\n",
       "      <th>140</th>\n",
       "      <td>141</td>\n",
       "      <td>Luís Cunha</td>\n",
       "      <td>M</td>\n",
       "      <td>3/12/1941</td>\n",
       "    </tr>\n",
       "  </tbody>\n",
       "</table>\n",
       "</div>"
      ],
      "text/plain": [
       "      id            nome sexo    dt_nasc\n",
       "744  745    Otávio Alves    M   9/8/1957\n",
       "541  542  Nicole Barbosa    F  3/23/1935\n",
       "411  412  Pedro Oliveira    M  2/26/1996\n",
       "711  712  Mateus Almeida    M  4/16/1949\n",
       "140  141      Luís Cunha    M  3/12/1941"
      ]
     },
     "execution_count": 103,
     "metadata": {},
     "output_type": "execute_result"
    }
   ],
   "source": [
    "df_clientes.sample(5)"
   ]
  },
  {
   "cell_type": "code",
   "execution_count": 104,
   "metadata": {},
   "outputs": [
    {
     "data": {
      "text/plain": [
       "id         0\n",
       "nome       4\n",
       "sexo       4\n",
       "dt_nasc    4\n",
       "dtype: int64"
      ]
     },
     "execution_count": 104,
     "metadata": {},
     "output_type": "execute_result"
    }
   ],
   "source": [
    "df_clientes.isnull().sum()"
   ]
  },
  {
   "cell_type": "code",
   "execution_count": 105,
   "metadata": {},
   "outputs": [
    {
     "data": {
      "text/html": [
       "<div>\n",
       "<style scoped>\n",
       "    .dataframe tbody tr th:only-of-type {\n",
       "        vertical-align: middle;\n",
       "    }\n",
       "\n",
       "    .dataframe tbody tr th {\n",
       "        vertical-align: top;\n",
       "    }\n",
       "\n",
       "    .dataframe thead th {\n",
       "        text-align: right;\n",
       "    }\n",
       "</style>\n",
       "<table border=\"1\" class=\"dataframe\">\n",
       "  <thead>\n",
       "    <tr style=\"text-align: right;\">\n",
       "      <th></th>\n",
       "      <th>id</th>\n",
       "      <th>nome</th>\n",
       "      <th>sexo</th>\n",
       "      <th>dt_nasc</th>\n",
       "    </tr>\n",
       "  </thead>\n",
       "  <tbody>\n",
       "    <tr>\n",
       "      <th>263</th>\n",
       "      <td>264</td>\n",
       "      <td>NaN</td>\n",
       "      <td>F</td>\n",
       "      <td>7/29/1997</td>\n",
       "    </tr>\n",
       "    <tr>\n",
       "      <th>264</th>\n",
       "      <td>265</td>\n",
       "      <td>NaN</td>\n",
       "      <td>M</td>\n",
       "      <td>2/7/1979</td>\n",
       "    </tr>\n",
       "    <tr>\n",
       "      <th>268</th>\n",
       "      <td>269</td>\n",
       "      <td>NaN</td>\n",
       "      <td>F</td>\n",
       "      <td>NaN</td>\n",
       "    </tr>\n",
       "    <tr>\n",
       "      <th>269</th>\n",
       "      <td>270</td>\n",
       "      <td>NaN</td>\n",
       "      <td>M</td>\n",
       "      <td>NaN</td>\n",
       "    </tr>\n",
       "    <tr>\n",
       "      <th>276</th>\n",
       "      <td>277</td>\n",
       "      <td>Brenda Santos</td>\n",
       "      <td>F</td>\n",
       "      <td>NaN</td>\n",
       "    </tr>\n",
       "    <tr>\n",
       "      <th>282</th>\n",
       "      <td>283</td>\n",
       "      <td>Amanda Barros</td>\n",
       "      <td>F</td>\n",
       "      <td>NaN</td>\n",
       "    </tr>\n",
       "    <tr>\n",
       "      <th>287</th>\n",
       "      <td>288</td>\n",
       "      <td>Victor Ribeiro</td>\n",
       "      <td>NaN</td>\n",
       "      <td>12/17/1974</td>\n",
       "    </tr>\n",
       "    <tr>\n",
       "      <th>290</th>\n",
       "      <td>291</td>\n",
       "      <td>Clara Pinto</td>\n",
       "      <td>NaN</td>\n",
       "      <td>12/25/1980</td>\n",
       "    </tr>\n",
       "    <tr>\n",
       "      <th>294</th>\n",
       "      <td>295</td>\n",
       "      <td>Tiago Lima</td>\n",
       "      <td>NaN</td>\n",
       "      <td>7/26/1973</td>\n",
       "    </tr>\n",
       "    <tr>\n",
       "      <th>301</th>\n",
       "      <td>302</td>\n",
       "      <td>Guilherme Cardoso</td>\n",
       "      <td>NaN</td>\n",
       "      <td>3/9/1998</td>\n",
       "    </tr>\n",
       "  </tbody>\n",
       "</table>\n",
       "</div>"
      ],
      "text/plain": [
       "      id               nome sexo     dt_nasc\n",
       "263  264                NaN    F   7/29/1997\n",
       "264  265                NaN    M    2/7/1979\n",
       "268  269                NaN    F         NaN\n",
       "269  270                NaN    M         NaN\n",
       "276  277      Brenda Santos    F         NaN\n",
       "282  283      Amanda Barros    F         NaN\n",
       "287  288     Victor Ribeiro  NaN  12/17/1974\n",
       "290  291        Clara Pinto  NaN  12/25/1980\n",
       "294  295         Tiago Lima  NaN   7/26/1973\n",
       "301  302  Guilherme Cardoso  NaN    3/9/1998"
      ]
     },
     "execution_count": 105,
     "metadata": {},
     "output_type": "execute_result"
    }
   ],
   "source": [
    "# Identificando as linhas com algum dado nulo\n",
    "df_clientes[df_clientes.isnull().T.any()]"
   ]
  },
  {
   "cell_type": "code",
   "execution_count": 106,
   "metadata": {},
   "outputs": [
    {
     "data": {
      "text/plain": [
       "array(['F', 'M', nan], dtype=object)"
      ]
     },
     "execution_count": 106,
     "metadata": {},
     "output_type": "execute_result"
    }
   ],
   "source": [
    "df_clientes.sexo.unique()"
   ]
  },
  {
   "cell_type": "markdown",
   "metadata": {},
   "source": [
    "### df_lojas"
   ]
  },
  {
   "cell_type": "code",
   "execution_count": 107,
   "metadata": {},
   "outputs": [
    {
     "data": {
      "text/html": [
       "<div>\n",
       "<style scoped>\n",
       "    .dataframe tbody tr th:only-of-type {\n",
       "        vertical-align: middle;\n",
       "    }\n",
       "\n",
       "    .dataframe tbody tr th {\n",
       "        vertical-align: top;\n",
       "    }\n",
       "\n",
       "    .dataframe thead th {\n",
       "        text-align: right;\n",
       "    }\n",
       "</style>\n",
       "<table border=\"1\" class=\"dataframe\">\n",
       "  <thead>\n",
       "    <tr style=\"text-align: right;\">\n",
       "      <th></th>\n",
       "      <th>id</th>\n",
       "      <th>cidade</th>\n",
       "    </tr>\n",
       "  </thead>\n",
       "  <tbody>\n",
       "    <tr>\n",
       "      <th>0</th>\n",
       "      <td>1</td>\n",
       "      <td>São Paulo</td>\n",
       "    </tr>\n",
       "    <tr>\n",
       "      <th>1</th>\n",
       "      <td>2</td>\n",
       "      <td>Rio de Janeiro</td>\n",
       "    </tr>\n",
       "    <tr>\n",
       "      <th>2</th>\n",
       "      <td>3</td>\n",
       "      <td>Curitiba</td>\n",
       "    </tr>\n",
       "    <tr>\n",
       "      <th>3</th>\n",
       "      <td>4</td>\n",
       "      <td>Belo Horizonte</td>\n",
       "    </tr>\n",
       "    <tr>\n",
       "      <th>4</th>\n",
       "      <td>5</td>\n",
       "      <td>Santa Catarina</td>\n",
       "    </tr>\n",
       "    <tr>\n",
       "      <th>5</th>\n",
       "      <td>6</td>\n",
       "      <td>Recife</td>\n",
       "    </tr>\n",
       "    <tr>\n",
       "      <th>6</th>\n",
       "      <td>7</td>\n",
       "      <td>Salvador</td>\n",
       "    </tr>\n",
       "    <tr>\n",
       "      <th>7</th>\n",
       "      <td>8</td>\n",
       "      <td>Brasília</td>\n",
       "    </tr>\n",
       "    <tr>\n",
       "      <th>8</th>\n",
       "      <td>9</td>\n",
       "      <td>Palmas</td>\n",
       "    </tr>\n",
       "    <tr>\n",
       "      <th>9</th>\n",
       "      <td>10</td>\n",
       "      <td>Vitória</td>\n",
       "    </tr>\n",
       "  </tbody>\n",
       "</table>\n",
       "</div>"
      ],
      "text/plain": [
       "   id          cidade\n",
       "0   1       São Paulo\n",
       "1   2  Rio de Janeiro\n",
       "2   3        Curitiba\n",
       "3   4  Belo Horizonte\n",
       "4   5  Santa Catarina\n",
       "5   6          Recife\n",
       "6   7        Salvador\n",
       "7   8        Brasília\n",
       "8   9          Palmas\n",
       "9  10         Vitória"
      ]
     },
     "execution_count": 107,
     "metadata": {},
     "output_type": "execute_result"
    }
   ],
   "source": [
    "df_lojas"
   ]
  },
  {
   "cell_type": "markdown",
   "metadata": {},
   "source": [
    "### df_produtos"
   ]
  },
  {
   "cell_type": "code",
   "execution_count": 108,
   "metadata": {},
   "outputs": [
    {
     "data": {
      "text/html": [
       "<div>\n",
       "<style scoped>\n",
       "    .dataframe tbody tr th:only-of-type {\n",
       "        vertical-align: middle;\n",
       "    }\n",
       "\n",
       "    .dataframe tbody tr th {\n",
       "        vertical-align: top;\n",
       "    }\n",
       "\n",
       "    .dataframe thead th {\n",
       "        text-align: right;\n",
       "    }\n",
       "</style>\n",
       "<table border=\"1\" class=\"dataframe\">\n",
       "  <thead>\n",
       "    <tr style=\"text-align: right;\">\n",
       "      <th></th>\n",
       "      <th>id</th>\n",
       "      <th>produto</th>\n",
       "      <th>valor</th>\n",
       "    </tr>\n",
       "  </thead>\n",
       "  <tbody>\n",
       "    <tr>\n",
       "      <th>0</th>\n",
       "      <td>1</td>\n",
       "      <td>mouse</td>\n",
       "      <td>20.0</td>\n",
       "    </tr>\n",
       "    <tr>\n",
       "      <th>1</th>\n",
       "      <td>2</td>\n",
       "      <td>teclado</td>\n",
       "      <td>30.0</td>\n",
       "    </tr>\n",
       "    <tr>\n",
       "      <th>2</th>\n",
       "      <td>3</td>\n",
       "      <td>laptop básico</td>\n",
       "      <td>2300.0</td>\n",
       "    </tr>\n",
       "    <tr>\n",
       "      <th>3</th>\n",
       "      <td>4</td>\n",
       "      <td>laptop gamer</td>\n",
       "      <td>5300.0</td>\n",
       "    </tr>\n",
       "    <tr>\n",
       "      <th>4</th>\n",
       "      <td>5</td>\n",
       "      <td>monitor</td>\n",
       "      <td>1500.0</td>\n",
       "    </tr>\n",
       "    <tr>\n",
       "      <th>5</th>\n",
       "      <td>6</td>\n",
       "      <td>impressora</td>\n",
       "      <td>700.0</td>\n",
       "    </tr>\n",
       "    <tr>\n",
       "      <th>6</th>\n",
       "      <td>7</td>\n",
       "      <td>carregador</td>\n",
       "      <td>150.0</td>\n",
       "    </tr>\n",
       "    <tr>\n",
       "      <th>7</th>\n",
       "      <td>8</td>\n",
       "      <td>cadeira</td>\n",
       "      <td>540.0</td>\n",
       "    </tr>\n",
       "    <tr>\n",
       "      <th>8</th>\n",
       "      <td>9</td>\n",
       "      <td>mesa</td>\n",
       "      <td>860.0</td>\n",
       "    </tr>\n",
       "    <tr>\n",
       "      <th>9</th>\n",
       "      <td>10</td>\n",
       "      <td>xxx-231a</td>\n",
       "      <td>3211352.0</td>\n",
       "    </tr>\n",
       "  </tbody>\n",
       "</table>\n",
       "</div>"
      ],
      "text/plain": [
       "   id        produto      valor\n",
       "0   1          mouse       20.0\n",
       "1   2        teclado       30.0\n",
       "2   3  laptop básico     2300.0\n",
       "3   4   laptop gamer     5300.0\n",
       "4   5        monitor     1500.0\n",
       "5   6     impressora      700.0\n",
       "6   7     carregador      150.0\n",
       "7   8        cadeira      540.0\n",
       "8   9           mesa      860.0\n",
       "9  10       xxx-231a  3211352.0"
      ]
     },
     "execution_count": 108,
     "metadata": {},
     "output_type": "execute_result"
    }
   ],
   "source": [
    "df_produtos"
   ]
  },
  {
   "cell_type": "code",
   "execution_count": 109,
   "metadata": {},
   "outputs": [
    {
     "data": {
      "text/plain": [
       "<Axes: >"
      ]
     },
     "execution_count": 109,
     "metadata": {},
     "output_type": "execute_result"
    }
   ],
   "source": [
    "# Visualização por boxplot, excluindo o outlier 'xxx-231a'\n",
    "df_produtos[df_produtos.valor < 3000000].boxplot(column=['valor'])"
   ]
  },
  {
   "cell_type": "code",
   "execution_count": 110,
   "metadata": {},
   "outputs": [
    {
     "data": {
      "text/plain": [
       "id            182\n",
       "id_cliente    182\n",
       "id_loja       182\n",
       "id_produto    182\n",
       "dt_venda      182\n",
       "dtype: int64"
      ]
     },
     "execution_count": 110,
     "metadata": {},
     "output_type": "execute_result"
    }
   ],
   "source": [
    "# Há vendas do produto xxx-231a?\n",
    "df_vendas[df_vendas.id_produto == 10].count()"
   ]
  },
  {
   "cell_type": "markdown",
   "metadata": {},
   "source": [
    "### df_vendas"
   ]
  },
  {
   "cell_type": "code",
   "execution_count": 111,
   "metadata": {},
   "outputs": [
    {
     "data": {
      "text/html": [
       "<div>\n",
       "<style scoped>\n",
       "    .dataframe tbody tr th:only-of-type {\n",
       "        vertical-align: middle;\n",
       "    }\n",
       "\n",
       "    .dataframe tbody tr th {\n",
       "        vertical-align: top;\n",
       "    }\n",
       "\n",
       "    .dataframe thead th {\n",
       "        text-align: right;\n",
       "    }\n",
       "</style>\n",
       "<table border=\"1\" class=\"dataframe\">\n",
       "  <thead>\n",
       "    <tr style=\"text-align: right;\">\n",
       "      <th></th>\n",
       "      <th>id</th>\n",
       "      <th>id_cliente</th>\n",
       "      <th>id_loja</th>\n",
       "      <th>id_produto</th>\n",
       "      <th>dt_venda</th>\n",
       "    </tr>\n",
       "  </thead>\n",
       "  <tbody>\n",
       "    <tr>\n",
       "      <th>count</th>\n",
       "      <td>3000.000000</td>\n",
       "      <td>3000.000000</td>\n",
       "      <td>3000.000000</td>\n",
       "      <td>3000.000000</td>\n",
       "      <td>3000</td>\n",
       "    </tr>\n",
       "    <tr>\n",
       "      <th>mean</th>\n",
       "      <td>1500.500000</td>\n",
       "      <td>500.763667</td>\n",
       "      <td>4.538333</td>\n",
       "      <td>4.435000</td>\n",
       "      <td>2019-05-17 17:48:28.799999744</td>\n",
       "    </tr>\n",
       "    <tr>\n",
       "      <th>min</th>\n",
       "      <td>1.000000</td>\n",
       "      <td>1.000000</td>\n",
       "      <td>1.000000</td>\n",
       "      <td>1.000000</td>\n",
       "      <td>2018-01-04 00:00:00</td>\n",
       "    </tr>\n",
       "    <tr>\n",
       "      <th>25%</th>\n",
       "      <td>750.750000</td>\n",
       "      <td>254.750000</td>\n",
       "      <td>2.000000</td>\n",
       "      <td>3.000000</td>\n",
       "      <td>2018-09-09 00:00:00</td>\n",
       "    </tr>\n",
       "    <tr>\n",
       "      <th>50%</th>\n",
       "      <td>1500.500000</td>\n",
       "      <td>503.500000</td>\n",
       "      <td>4.000000</td>\n",
       "      <td>3.000000</td>\n",
       "      <td>2019-05-20 00:00:00</td>\n",
       "    </tr>\n",
       "    <tr>\n",
       "      <th>75%</th>\n",
       "      <td>2250.250000</td>\n",
       "      <td>742.000000</td>\n",
       "      <td>7.000000</td>\n",
       "      <td>6.000000</td>\n",
       "      <td>2020-01-29 06:00:00</td>\n",
       "    </tr>\n",
       "    <tr>\n",
       "      <th>max</th>\n",
       "      <td>3000.000000</td>\n",
       "      <td>1000.000000</td>\n",
       "      <td>10.000000</td>\n",
       "      <td>10.000000</td>\n",
       "      <td>2020-09-27 00:00:00</td>\n",
       "    </tr>\n",
       "    <tr>\n",
       "      <th>std</th>\n",
       "      <td>866.169729</td>\n",
       "      <td>285.322282</td>\n",
       "      <td>2.922221</td>\n",
       "      <td>2.511018</td>\n",
       "      <td>NaN</td>\n",
       "    </tr>\n",
       "  </tbody>\n",
       "</table>\n",
       "</div>"
      ],
      "text/plain": [
       "                id   id_cliente      id_loja   id_produto  \\\n",
       "count  3000.000000  3000.000000  3000.000000  3000.000000   \n",
       "mean   1500.500000   500.763667     4.538333     4.435000   \n",
       "min       1.000000     1.000000     1.000000     1.000000   \n",
       "25%     750.750000   254.750000     2.000000     3.000000   \n",
       "50%    1500.500000   503.500000     4.000000     3.000000   \n",
       "75%    2250.250000   742.000000     7.000000     6.000000   \n",
       "max    3000.000000  1000.000000    10.000000    10.000000   \n",
       "std     866.169729   285.322282     2.922221     2.511018   \n",
       "\n",
       "                            dt_venda  \n",
       "count                           3000  \n",
       "mean   2019-05-17 17:48:28.799999744  \n",
       "min              2018-01-04 00:00:00  \n",
       "25%              2018-09-09 00:00:00  \n",
       "50%              2019-05-20 00:00:00  \n",
       "75%              2020-01-29 06:00:00  \n",
       "max              2020-09-27 00:00:00  \n",
       "std                              NaN  "
      ]
     },
     "execution_count": 111,
     "metadata": {},
     "output_type": "execute_result"
    }
   ],
   "source": [
    "df_vendas.describe()"
   ]
  },
  {
   "cell_type": "markdown",
   "metadata": {},
   "source": [
    "### df_pagamento"
   ]
  },
  {
   "cell_type": "code",
   "execution_count": 112,
   "metadata": {},
   "outputs": [
    {
     "data": {
      "text/plain": [
       "id          0\n",
       "id_venda    0\n",
       "dt_pgto     0\n",
       "dtype: int64"
      ]
     },
     "execution_count": 112,
     "metadata": {},
     "output_type": "execute_result"
    }
   ],
   "source": [
    "df_pagamentos.isnull().sum()"
   ]
  },
  {
   "cell_type": "code",
   "execution_count": 113,
   "metadata": {},
   "outputs": [
    {
     "data": {
      "text/html": [
       "<div>\n",
       "<style scoped>\n",
       "    .dataframe tbody tr th:only-of-type {\n",
       "        vertical-align: middle;\n",
       "    }\n",
       "\n",
       "    .dataframe tbody tr th {\n",
       "        vertical-align: top;\n",
       "    }\n",
       "\n",
       "    .dataframe thead th {\n",
       "        text-align: right;\n",
       "    }\n",
       "</style>\n",
       "<table border=\"1\" class=\"dataframe\">\n",
       "  <thead>\n",
       "    <tr style=\"text-align: right;\">\n",
       "      <th></th>\n",
       "      <th>id</th>\n",
       "      <th>id_venda</th>\n",
       "      <th>dt_pgto</th>\n",
       "    </tr>\n",
       "  </thead>\n",
       "  <tbody>\n",
       "    <tr>\n",
       "      <th>count</th>\n",
       "      <td>2072.000000</td>\n",
       "      <td>2072.000000</td>\n",
       "      <td>2072</td>\n",
       "    </tr>\n",
       "    <tr>\n",
       "      <th>mean</th>\n",
       "      <td>1036.500000</td>\n",
       "      <td>1491.731660</td>\n",
       "      <td>2019-06-06 05:37:45.637065472</td>\n",
       "    </tr>\n",
       "    <tr>\n",
       "      <th>min</th>\n",
       "      <td>1.000000</td>\n",
       "      <td>1.000000</td>\n",
       "      <td>2018-01-10 00:00:00</td>\n",
       "    </tr>\n",
       "    <tr>\n",
       "      <th>25%</th>\n",
       "      <td>518.750000</td>\n",
       "      <td>746.250000</td>\n",
       "      <td>2018-10-01 12:00:00</td>\n",
       "    </tr>\n",
       "    <tr>\n",
       "      <th>50%</th>\n",
       "      <td>1036.500000</td>\n",
       "      <td>1501.500000</td>\n",
       "      <td>2019-06-10 00:00:00</td>\n",
       "    </tr>\n",
       "    <tr>\n",
       "      <th>75%</th>\n",
       "      <td>1554.250000</td>\n",
       "      <td>2220.500000</td>\n",
       "      <td>2020-02-08 00:00:00</td>\n",
       "    </tr>\n",
       "    <tr>\n",
       "      <th>max</th>\n",
       "      <td>2072.000000</td>\n",
       "      <td>2997.000000</td>\n",
       "      <td>2020-11-03 00:00:00</td>\n",
       "    </tr>\n",
       "    <tr>\n",
       "      <th>std</th>\n",
       "      <td>598.279199</td>\n",
       "      <td>864.865583</td>\n",
       "      <td>NaN</td>\n",
       "    </tr>\n",
       "  </tbody>\n",
       "</table>\n",
       "</div>"
      ],
      "text/plain": [
       "                id     id_venda                        dt_pgto\n",
       "count  2072.000000  2072.000000                           2072\n",
       "mean   1036.500000  1491.731660  2019-06-06 05:37:45.637065472\n",
       "min       1.000000     1.000000            2018-01-10 00:00:00\n",
       "25%     518.750000   746.250000            2018-10-01 12:00:00\n",
       "50%    1036.500000  1501.500000            2019-06-10 00:00:00\n",
       "75%    1554.250000  2220.500000            2020-02-08 00:00:00\n",
       "max    2072.000000  2997.000000            2020-11-03 00:00:00\n",
       "std     598.279199   864.865583                            NaN"
      ]
     },
     "execution_count": 113,
     "metadata": {},
     "output_type": "execute_result"
    }
   ],
   "source": [
    "df_pagamentos.describe()"
   ]
  },
  {
   "cell_type": "markdown",
   "metadata": {},
   "source": [
    "# Data Cleanning"
   ]
  },
  {
   "cell_type": "markdown",
   "metadata": {},
   "source": [
    "### Dados nulos"
   ]
  },
  {
   "cell_type": "code",
   "execution_count": 114,
   "metadata": {},
   "outputs": [
    {
     "data": {
      "text/html": [
       "<div>\n",
       "<style scoped>\n",
       "    .dataframe tbody tr th:only-of-type {\n",
       "        vertical-align: middle;\n",
       "    }\n",
       "\n",
       "    .dataframe tbody tr th {\n",
       "        vertical-align: top;\n",
       "    }\n",
       "\n",
       "    .dataframe thead th {\n",
       "        text-align: right;\n",
       "    }\n",
       "</style>\n",
       "<table border=\"1\" class=\"dataframe\">\n",
       "  <thead>\n",
       "    <tr style=\"text-align: right;\">\n",
       "      <th></th>\n",
       "      <th>id</th>\n",
       "      <th>id_cliente</th>\n",
       "      <th>id_loja</th>\n",
       "      <th>id_produto</th>\n",
       "      <th>dt_venda</th>\n",
       "    </tr>\n",
       "  </thead>\n",
       "  <tbody>\n",
       "    <tr>\n",
       "      <th>229</th>\n",
       "      <td>230</td>\n",
       "      <td>264</td>\n",
       "      <td>2</td>\n",
       "      <td>3</td>\n",
       "      <td>2018-03-28</td>\n",
       "    </tr>\n",
       "    <tr>\n",
       "      <th>562</th>\n",
       "      <td>563</td>\n",
       "      <td>264</td>\n",
       "      <td>5</td>\n",
       "      <td>3</td>\n",
       "      <td>2018-07-07</td>\n",
       "    </tr>\n",
       "    <tr>\n",
       "      <th>1438</th>\n",
       "      <td>1439</td>\n",
       "      <td>264</td>\n",
       "      <td>3</td>\n",
       "      <td>3</td>\n",
       "      <td>2019-04-29</td>\n",
       "    </tr>\n",
       "    <tr>\n",
       "      <th>2021</th>\n",
       "      <td>2022</td>\n",
       "      <td>264</td>\n",
       "      <td>6</td>\n",
       "      <td>3</td>\n",
       "      <td>2019-11-08</td>\n",
       "    </tr>\n",
       "    <tr>\n",
       "      <th>2877</th>\n",
       "      <td>2878</td>\n",
       "      <td>264</td>\n",
       "      <td>10</td>\n",
       "      <td>3</td>\n",
       "      <td>2020-08-14</td>\n",
       "    </tr>\n",
       "  </tbody>\n",
       "</table>\n",
       "</div>"
      ],
      "text/plain": [
       "        id  id_cliente  id_loja  id_produto   dt_venda\n",
       "229    230         264        2           3 2018-03-28\n",
       "562    563         264        5           3 2018-07-07\n",
       "1438  1439         264        3           3 2019-04-29\n",
       "2021  2022         264        6           3 2019-11-08\n",
       "2877  2878         264       10           3 2020-08-14"
      ]
     },
     "execution_count": 114,
     "metadata": {},
     "output_type": "execute_result"
    }
   ],
   "source": [
    "df_vendas[df_vendas.id_cliente == 264]"
   ]
  },
  {
   "cell_type": "code",
   "execution_count": 115,
   "metadata": {},
   "outputs": [],
   "source": [
    "df_clientes.loc[df_clientes.nome.isnull(), 'nome'] = 'Sem nome'\n",
    "df_clientes.loc[df_clientes.sexo.isnull(), 'sexo'] = 'O'\n",
    "df_clientes.loc[df_clientes.dt_nasc.isnull(), 'dt_nasc'] = '1/1/2020'"
   ]
  },
  {
   "cell_type": "code",
   "execution_count": 116,
   "metadata": {},
   "outputs": [
    {
     "data": {
      "text/html": [
       "<div>\n",
       "<style scoped>\n",
       "    .dataframe tbody tr th:only-of-type {\n",
       "        vertical-align: middle;\n",
       "    }\n",
       "\n",
       "    .dataframe tbody tr th {\n",
       "        vertical-align: top;\n",
       "    }\n",
       "\n",
       "    .dataframe thead th {\n",
       "        text-align: right;\n",
       "    }\n",
       "</style>\n",
       "<table border=\"1\" class=\"dataframe\">\n",
       "  <thead>\n",
       "    <tr style=\"text-align: right;\">\n",
       "      <th></th>\n",
       "      <th>id</th>\n",
       "      <th>nome</th>\n",
       "      <th>sexo</th>\n",
       "      <th>dt_nasc</th>\n",
       "    </tr>\n",
       "  </thead>\n",
       "  <tbody>\n",
       "    <tr>\n",
       "      <th>269</th>\n",
       "      <td>270</td>\n",
       "      <td>Sem nome</td>\n",
       "      <td>M</td>\n",
       "      <td>1/1/2020</td>\n",
       "    </tr>\n",
       "    <tr>\n",
       "      <th>287</th>\n",
       "      <td>288</td>\n",
       "      <td>Victor Ribeiro</td>\n",
       "      <td>O</td>\n",
       "      <td>12/17/1974</td>\n",
       "    </tr>\n",
       "  </tbody>\n",
       "</table>\n",
       "</div>"
      ],
      "text/plain": [
       "      id            nome sexo     dt_nasc\n",
       "269  270        Sem nome    M    1/1/2020\n",
       "287  288  Victor Ribeiro    O  12/17/1974"
      ]
     },
     "execution_count": 116,
     "metadata": {},
     "output_type": "execute_result"
    }
   ],
   "source": [
    "df_clientes.loc[[269, 287], :]"
   ]
  },
  {
   "cell_type": "markdown",
   "metadata": {},
   "source": [
    "### Outliers"
   ]
  },
  {
   "cell_type": "code",
   "execution_count": 117,
   "metadata": {},
   "outputs": [
    {
     "data": {
      "text/html": [
       "<div>\n",
       "<style scoped>\n",
       "    .dataframe tbody tr th:only-of-type {\n",
       "        vertical-align: middle;\n",
       "    }\n",
       "\n",
       "    .dataframe tbody tr th {\n",
       "        vertical-align: top;\n",
       "    }\n",
       "\n",
       "    .dataframe thead th {\n",
       "        text-align: right;\n",
       "    }\n",
       "</style>\n",
       "<table border=\"1\" class=\"dataframe\">\n",
       "  <thead>\n",
       "    <tr style=\"text-align: right;\">\n",
       "      <th></th>\n",
       "      <th>id</th>\n",
       "      <th>produto</th>\n",
       "      <th>valor</th>\n",
       "    </tr>\n",
       "  </thead>\n",
       "  <tbody>\n",
       "    <tr>\n",
       "      <th>0</th>\n",
       "      <td>1</td>\n",
       "      <td>mouse</td>\n",
       "      <td>20.0000</td>\n",
       "    </tr>\n",
       "    <tr>\n",
       "      <th>1</th>\n",
       "      <td>2</td>\n",
       "      <td>teclado</td>\n",
       "      <td>30.0000</td>\n",
       "    </tr>\n",
       "    <tr>\n",
       "      <th>2</th>\n",
       "      <td>3</td>\n",
       "      <td>laptop básico</td>\n",
       "      <td>2300.0000</td>\n",
       "    </tr>\n",
       "    <tr>\n",
       "      <th>3</th>\n",
       "      <td>4</td>\n",
       "      <td>laptop gamer</td>\n",
       "      <td>5300.0000</td>\n",
       "    </tr>\n",
       "    <tr>\n",
       "      <th>4</th>\n",
       "      <td>5</td>\n",
       "      <td>monitor</td>\n",
       "      <td>1500.0000</td>\n",
       "    </tr>\n",
       "    <tr>\n",
       "      <th>5</th>\n",
       "      <td>6</td>\n",
       "      <td>impressora</td>\n",
       "      <td>700.0000</td>\n",
       "    </tr>\n",
       "    <tr>\n",
       "      <th>6</th>\n",
       "      <td>7</td>\n",
       "      <td>carregador</td>\n",
       "      <td>150.0000</td>\n",
       "    </tr>\n",
       "    <tr>\n",
       "      <th>7</th>\n",
       "      <td>8</td>\n",
       "      <td>cadeira</td>\n",
       "      <td>540.0000</td>\n",
       "    </tr>\n",
       "    <tr>\n",
       "      <th>8</th>\n",
       "      <td>9</td>\n",
       "      <td>mesa</td>\n",
       "      <td>860.0000</td>\n",
       "    </tr>\n",
       "    <tr>\n",
       "      <th>9</th>\n",
       "      <td>10</td>\n",
       "      <td>xxx-231a</td>\n",
       "      <td>321.1352</td>\n",
       "    </tr>\n",
       "  </tbody>\n",
       "</table>\n",
       "</div>"
      ],
      "text/plain": [
       "   id        produto      valor\n",
       "0   1          mouse    20.0000\n",
       "1   2        teclado    30.0000\n",
       "2   3  laptop básico  2300.0000\n",
       "3   4   laptop gamer  5300.0000\n",
       "4   5        monitor  1500.0000\n",
       "5   6     impressora   700.0000\n",
       "6   7     carregador   150.0000\n",
       "7   8        cadeira   540.0000\n",
       "8   9           mesa   860.0000\n",
       "9  10       xxx-231a   321.1352"
      ]
     },
     "execution_count": 117,
     "metadata": {},
     "output_type": "execute_result"
    }
   ],
   "source": [
    "df_produtos.loc[9, 'valor'] = df_produtos.valor[9]/10000\n",
    "df_produtos"
   ]
  },
  {
   "cell_type": "code",
   "execution_count": 118,
   "metadata": {},
   "outputs": [
    {
     "data": {
      "image/png": "[encoded data removed]",
      "text/plain": [
       "<Figure size 640x480 with 1 Axes>"
      ]
     },
     "metadata": {},
     "output_type": "display_data"
    }
   ],
   "source": [
    "df_produtos.boxplot(column=['valor'])\n",
    "plt.show()"
   ]
  },
  {
   "cell_type": "markdown",
   "metadata": {},
   "source": [
    "### Consistência"
   ]
  },
  {
   "cell_type": "code",
   "execution_count": 119,
   "metadata": {},
   "outputs": [
    {
     "data": {
      "text/html": [
       "<div>\n",
       "<style scoped>\n",
       "    .dataframe tbody tr th:only-of-type {\n",
       "        vertical-align: middle;\n",
       "    }\n",
       "\n",
       "    .dataframe tbody tr th {\n",
       "        vertical-align: top;\n",
       "    }\n",
       "\n",
       "    .dataframe thead th {\n",
       "        text-align: right;\n",
       "    }\n",
       "</style>\n",
       "<table border=\"1\" class=\"dataframe\">\n",
       "  <thead>\n",
       "    <tr style=\"text-align: right;\">\n",
       "      <th></th>\n",
       "      <th>id</th>\n",
       "      <th>id_cliente</th>\n",
       "      <th>id_loja</th>\n",
       "      <th>id_produto</th>\n",
       "      <th>dt_venda</th>\n",
       "    </tr>\n",
       "  </thead>\n",
       "  <tbody>\n",
       "  </tbody>\n",
       "</table>\n",
       "</div>"
      ],
      "text/plain": [
       "Empty DataFrame\n",
       "Columns: [id, id_cliente, id_loja, id_produto, dt_venda]\n",
       "Index: []"
      ]
     },
     "execution_count": 119,
     "metadata": {},
     "output_type": "execute_result"
    }
   ],
   "source": [
    "# Verificando se alguma venda não possui cliente\n",
    "df_vendas[~df_vendas.id_cliente.isin(df_clientes.id)]"
   ]
  },
  {
   "cell_type": "code",
   "execution_count": 120,
   "metadata": {},
   "outputs": [
    {
     "data": {
      "text/html": [
       "<div>\n",
       "<style scoped>\n",
       "    .dataframe tbody tr th:only-of-type {\n",
       "        vertical-align: middle;\n",
       "    }\n",
       "\n",
       "    .dataframe tbody tr th {\n",
       "        vertical-align: top;\n",
       "    }\n",
       "\n",
       "    .dataframe thead th {\n",
       "        text-align: right;\n",
       "    }\n",
       "</style>\n",
       "<table border=\"1\" class=\"dataframe\">\n",
       "  <thead>\n",
       "    <tr style=\"text-align: right;\">\n",
       "      <th></th>\n",
       "      <th>id</th>\n",
       "      <th>id_cliente</th>\n",
       "      <th>id_loja</th>\n",
       "      <th>id_produto</th>\n",
       "      <th>dt_venda</th>\n",
       "    </tr>\n",
       "  </thead>\n",
       "  <tbody>\n",
       "  </tbody>\n",
       "</table>\n",
       "</div>"
      ],
      "text/plain": [
       "Empty DataFrame\n",
       "Columns: [id, id_cliente, id_loja, id_produto, dt_venda]\n",
       "Index: []"
      ]
     },
     "execution_count": 120,
     "metadata": {},
     "output_type": "execute_result"
    }
   ],
   "source": [
    "# Verificando se alguma venda não está no df_lojas\n",
    "df_vendas[~df_vendas.id_loja.isin(df_lojas.id)]"
   ]
  },
  {
   "cell_type": "code",
   "execution_count": 121,
   "metadata": {},
   "outputs": [
    {
     "data": {
      "text/html": [
       "<div>\n",
       "<style scoped>\n",
       "    .dataframe tbody tr th:only-of-type {\n",
       "        vertical-align: middle;\n",
       "    }\n",
       "\n",
       "    .dataframe tbody tr th {\n",
       "        vertical-align: top;\n",
       "    }\n",
       "\n",
       "    .dataframe thead th {\n",
       "        text-align: right;\n",
       "    }\n",
       "</style>\n",
       "<table border=\"1\" class=\"dataframe\">\n",
       "  <thead>\n",
       "    <tr style=\"text-align: right;\">\n",
       "      <th></th>\n",
       "      <th>id</th>\n",
       "      <th>id_cliente</th>\n",
       "      <th>id_loja</th>\n",
       "      <th>id_produto</th>\n",
       "      <th>dt_venda</th>\n",
       "    </tr>\n",
       "  </thead>\n",
       "  <tbody>\n",
       "  </tbody>\n",
       "</table>\n",
       "</div>"
      ],
      "text/plain": [
       "Empty DataFrame\n",
       "Columns: [id, id_cliente, id_loja, id_produto, dt_venda]\n",
       "Index: []"
      ]
     },
     "execution_count": 121,
     "metadata": {},
     "output_type": "execute_result"
    }
   ],
   "source": [
    "# Verificando se algum id_produto não está no df_produtos\n",
    "df_vendas[~df_vendas.id_produto.isin(df_produtos.id)]"
   ]
  },
  {
   "cell_type": "code",
   "execution_count": 122,
   "metadata": {},
   "outputs": [
    {
     "data": {
      "text/html": [
       "<div>\n",
       "<style scoped>\n",
       "    .dataframe tbody tr th:only-of-type {\n",
       "        vertical-align: middle;\n",
       "    }\n",
       "\n",
       "    .dataframe tbody tr th {\n",
       "        vertical-align: top;\n",
       "    }\n",
       "\n",
       "    .dataframe thead th {\n",
       "        text-align: right;\n",
       "    }\n",
       "</style>\n",
       "<table border=\"1\" class=\"dataframe\">\n",
       "  <thead>\n",
       "    <tr style=\"text-align: right;\">\n",
       "      <th></th>\n",
       "      <th>id</th>\n",
       "      <th>id_venda</th>\n",
       "      <th>dt_pgto</th>\n",
       "    </tr>\n",
       "  </thead>\n",
       "  <tbody>\n",
       "  </tbody>\n",
       "</table>\n",
       "</div>"
      ],
      "text/plain": [
       "Empty DataFrame\n",
       "Columns: [id, id_venda, dt_pgto]\n",
       "Index: []"
      ]
     },
     "execution_count": 122,
     "metadata": {},
     "output_type": "execute_result"
    }
   ],
   "source": [
    "# Pagamento sem id_venda\n",
    "df_pagamentos[~df_pagamentos.id_venda.isin(df_vendas.id)]"
   ]
  },
  {
   "cell_type": "code",
   "execution_count": 123,
   "metadata": {},
   "outputs": [
    {
     "data": {
      "text/plain": [
       "id            928\n",
       "id_cliente    928\n",
       "id_loja       928\n",
       "id_produto    928\n",
       "dt_venda      928\n",
       "dtype: int64"
      ]
     },
     "execution_count": 123,
     "metadata": {},
     "output_type": "execute_result"
    }
   ],
   "source": [
    "# Verificando quais vendas não geraram pagamentos\n",
    "df_vendas[~df_vendas.id.isin(df_pagamentos.id_venda)].count()"
   ]
  },
  {
   "cell_type": "markdown",
   "metadata": {},
   "source": [
    "### Dados duplicados"
   ]
  },
  {
   "cell_type": "code",
   "execution_count": 124,
   "metadata": {},
   "outputs": [
    {
     "data": {
      "text/html": [
       "<div>\n",
       "<style scoped>\n",
       "    .dataframe tbody tr th:only-of-type {\n",
       "        vertical-align: middle;\n",
       "    }\n",
       "\n",
       "    .dataframe tbody tr th {\n",
       "        vertical-align: top;\n",
       "    }\n",
       "\n",
       "    .dataframe thead th {\n",
       "        text-align: right;\n",
       "    }\n",
       "</style>\n",
       "<table border=\"1\" class=\"dataframe\">\n",
       "  <thead>\n",
       "    <tr style=\"text-align: right;\">\n",
       "      <th></th>\n",
       "      <th>id</th>\n",
       "      <th>nome</th>\n",
       "      <th>sexo</th>\n",
       "      <th>dt_nasc</th>\n",
       "    </tr>\n",
       "  </thead>\n",
       "  <tbody>\n",
       "    <tr>\n",
       "      <th>79</th>\n",
       "      <td>80</td>\n",
       "      <td>Anna Melo</td>\n",
       "      <td>F</td>\n",
       "      <td>8/10/1999</td>\n",
       "    </tr>\n",
       "    <tr>\n",
       "      <th>96</th>\n",
       "      <td>97</td>\n",
       "      <td>Beatrice Goncalves</td>\n",
       "      <td>F</td>\n",
       "      <td>11/22/1964</td>\n",
       "    </tr>\n",
       "    <tr>\n",
       "      <th>138</th>\n",
       "      <td>139</td>\n",
       "      <td>Kauê Araujo</td>\n",
       "      <td>M</td>\n",
       "      <td>5/31/1974</td>\n",
       "    </tr>\n",
       "    <tr>\n",
       "      <th>139</th>\n",
       "      <td>140</td>\n",
       "      <td>Leonor Sousa</td>\n",
       "      <td>F</td>\n",
       "      <td>8/2/1981</td>\n",
       "    </tr>\n",
       "    <tr>\n",
       "      <th>154</th>\n",
       "      <td>155</td>\n",
       "      <td>Luis Rodrigues</td>\n",
       "      <td>M</td>\n",
       "      <td>7/3/1973</td>\n",
       "    </tr>\n",
       "    <tr>\n",
       "      <th>...</th>\n",
       "      <td>...</td>\n",
       "      <td>...</td>\n",
       "      <td>...</td>\n",
       "      <td>...</td>\n",
       "    </tr>\n",
       "    <tr>\n",
       "      <th>986</th>\n",
       "      <td>987</td>\n",
       "      <td>Beatriz Cardoso</td>\n",
       "      <td>F</td>\n",
       "      <td>7/17/1984</td>\n",
       "    </tr>\n",
       "    <tr>\n",
       "      <th>990</th>\n",
       "      <td>991</td>\n",
       "      <td>Diogo Melo</td>\n",
       "      <td>M</td>\n",
       "      <td>7/24/2001</td>\n",
       "    </tr>\n",
       "    <tr>\n",
       "      <th>993</th>\n",
       "      <td>994</td>\n",
       "      <td>Eduardo Costa</td>\n",
       "      <td>M</td>\n",
       "      <td>12/18/1963</td>\n",
       "    </tr>\n",
       "    <tr>\n",
       "      <th>996</th>\n",
       "      <td>997</td>\n",
       "      <td>Laura Oliveira</td>\n",
       "      <td>F</td>\n",
       "      <td>6/15/1979</td>\n",
       "    </tr>\n",
       "    <tr>\n",
       "      <th>999</th>\n",
       "      <td>1000</td>\n",
       "      <td>Gustavo Barbosa</td>\n",
       "      <td>M</td>\n",
       "      <td>12/30/1975</td>\n",
       "    </tr>\n",
       "  </tbody>\n",
       "</table>\n",
       "<p>109 rows × 4 columns</p>\n",
       "</div>"
      ],
      "text/plain": [
       "       id                nome sexo     dt_nasc\n",
       "79     80           Anna Melo    F   8/10/1999\n",
       "96     97  Beatrice Goncalves    F  11/22/1964\n",
       "138   139         Kauê Araujo    M   5/31/1974\n",
       "139   140        Leonor Sousa    F    8/2/1981\n",
       "154   155      Luis Rodrigues    M    7/3/1973\n",
       "..    ...                 ...  ...         ...\n",
       "986   987     Beatriz Cardoso    F   7/17/1984\n",
       "990   991          Diogo Melo    M   7/24/2001\n",
       "993   994       Eduardo Costa    M  12/18/1963\n",
       "996   997      Laura Oliveira    F   6/15/1979\n",
       "999  1000     Gustavo Barbosa    M  12/30/1975\n",
       "\n",
       "[109 rows x 4 columns]"
      ]
     },
     "execution_count": 124,
     "metadata": {},
     "output_type": "execute_result"
    }
   ],
   "source": [
    "df_clientes[df_clientes.nome.duplicated()]"
   ]
  },
  {
   "cell_type": "code",
   "execution_count": 125,
   "metadata": {},
   "outputs": [
    {
     "data": {
      "text/plain": [
       "0"
      ]
     },
     "execution_count": 125,
     "metadata": {},
     "output_type": "execute_result"
    }
   ],
   "source": [
    "# Verificando se existe alguma linha identica, excluindo o id\n",
    "df_clientes.drop('id', axis=1).duplicated().sum()"
   ]
  },
  {
   "cell_type": "code",
   "execution_count": 126,
   "metadata": {},
   "outputs": [
    {
     "data": {
      "text/plain": [
       "0"
      ]
     },
     "execution_count": 126,
     "metadata": {},
     "output_type": "execute_result"
    }
   ],
   "source": [
    "df_produtos.produto.duplicated().sum()"
   ]
  },
  {
   "cell_type": "code",
   "execution_count": 127,
   "metadata": {},
   "outputs": [
    {
     "data": {
      "text/plain": [
       "0"
      ]
     },
     "execution_count": 127,
     "metadata": {},
     "output_type": "execute_result"
    }
   ],
   "source": [
    "df_lojas.cidade.duplicated().sum()"
   ]
  },
  {
   "cell_type": "code",
   "execution_count": 128,
   "metadata": {},
   "outputs": [
    {
     "data": {
      "text/html": [
       "<div>\n",
       "<style scoped>\n",
       "    .dataframe tbody tr th:only-of-type {\n",
       "        vertical-align: middle;\n",
       "    }\n",
       "\n",
       "    .dataframe tbody tr th {\n",
       "        vertical-align: top;\n",
       "    }\n",
       "\n",
       "    .dataframe thead th {\n",
       "        text-align: right;\n",
       "    }\n",
       "</style>\n",
       "<table border=\"1\" class=\"dataframe\">\n",
       "  <thead>\n",
       "    <tr style=\"text-align: right;\">\n",
       "      <th></th>\n",
       "      <th>id</th>\n",
       "      <th>id_cliente</th>\n",
       "      <th>id_loja</th>\n",
       "      <th>id_produto</th>\n",
       "      <th>dt_venda</th>\n",
       "    </tr>\n",
       "  </thead>\n",
       "  <tbody>\n",
       "    <tr>\n",
       "      <th>496</th>\n",
       "      <td>497</td>\n",
       "      <td>559</td>\n",
       "      <td>2</td>\n",
       "      <td>5</td>\n",
       "      <td>2018-06-22</td>\n",
       "    </tr>\n",
       "  </tbody>\n",
       "</table>\n",
       "</div>"
      ],
      "text/plain": [
       "      id  id_cliente  id_loja  id_produto   dt_venda\n",
       "496  497         559        2           5 2018-06-22"
      ]
     },
     "execution_count": 128,
     "metadata": {},
     "output_type": "execute_result"
    }
   ],
   "source": [
    "# Pode ser indicativo de um dado duplicado ou que uma pessoa fez duas compras iguais no mesmo dia\n",
    "df_vendas[df_vendas.drop('id', axis=1).duplicated()]"
   ]
  },
  {
   "cell_type": "code",
   "execution_count": 129,
   "metadata": {},
   "outputs": [
    {
     "data": {
      "text/plain": [
       "0"
      ]
     },
     "execution_count": 129,
     "metadata": {},
     "output_type": "execute_result"
    }
   ],
   "source": [
    "df_pagamentos.drop('id', axis=1).duplicated().sum()"
   ]
  },
  {
   "cell_type": "markdown",
   "metadata": {},
   "source": [
    "### Formato de dados"
   ]
  },
  {
   "cell_type": "code",
   "execution_count": 130,
   "metadata": {},
   "outputs": [
    {
     "data": {
      "text/html": [
       "<div>\n",
       "<style scoped>\n",
       "    .dataframe tbody tr th:only-of-type {\n",
       "        vertical-align: middle;\n",
       "    }\n",
       "\n",
       "    .dataframe tbody tr th {\n",
       "        vertical-align: top;\n",
       "    }\n",
       "\n",
       "    .dataframe thead th {\n",
       "        text-align: right;\n",
       "    }\n",
       "</style>\n",
       "<table border=\"1\" class=\"dataframe\">\n",
       "  <thead>\n",
       "    <tr style=\"text-align: right;\">\n",
       "      <th></th>\n",
       "      <th>id</th>\n",
       "      <th>nome</th>\n",
       "      <th>sexo</th>\n",
       "      <th>dt_nasc</th>\n",
       "    </tr>\n",
       "  </thead>\n",
       "  <tbody>\n",
       "    <tr>\n",
       "      <th>0</th>\n",
       "      <td>1</td>\n",
       "      <td>Lavinia Sousa</td>\n",
       "      <td>F</td>\n",
       "      <td>1975-05-02</td>\n",
       "    </tr>\n",
       "    <tr>\n",
       "      <th>1</th>\n",
       "      <td>2</td>\n",
       "      <td>Caio Pereira</td>\n",
       "      <td>M</td>\n",
       "      <td>1978-04-16</td>\n",
       "    </tr>\n",
       "    <tr>\n",
       "      <th>2</th>\n",
       "      <td>3</td>\n",
       "      <td>Júlio Azevedo</td>\n",
       "      <td>M</td>\n",
       "      <td>1952-11-04</td>\n",
       "    </tr>\n",
       "    <tr>\n",
       "      <th>3</th>\n",
       "      <td>4</td>\n",
       "      <td>Sarah Goncalves</td>\n",
       "      <td>F</td>\n",
       "      <td>1937-02-24</td>\n",
       "    </tr>\n",
       "    <tr>\n",
       "      <th>4</th>\n",
       "      <td>5</td>\n",
       "      <td>Gabrielle Martins</td>\n",
       "      <td>F</td>\n",
       "      <td>1953-05-06</td>\n",
       "    </tr>\n",
       "    <tr>\n",
       "      <th>...</th>\n",
       "      <td>...</td>\n",
       "      <td>...</td>\n",
       "      <td>...</td>\n",
       "      <td>...</td>\n",
       "    </tr>\n",
       "    <tr>\n",
       "      <th>995</th>\n",
       "      <td>996</td>\n",
       "      <td>Ágatha Ribeiro</td>\n",
       "      <td>F</td>\n",
       "      <td>1946-02-08</td>\n",
       "    </tr>\n",
       "    <tr>\n",
       "      <th>996</th>\n",
       "      <td>997</td>\n",
       "      <td>Laura Oliveira</td>\n",
       "      <td>F</td>\n",
       "      <td>1979-06-15</td>\n",
       "    </tr>\n",
       "    <tr>\n",
       "      <th>997</th>\n",
       "      <td>998</td>\n",
       "      <td>Lara Oliveira</td>\n",
       "      <td>F</td>\n",
       "      <td>1946-03-15</td>\n",
       "    </tr>\n",
       "    <tr>\n",
       "      <th>998</th>\n",
       "      <td>999</td>\n",
       "      <td>Julian Cunha</td>\n",
       "      <td>M</td>\n",
       "      <td>1994-06-20</td>\n",
       "    </tr>\n",
       "    <tr>\n",
       "      <th>999</th>\n",
       "      <td>1000</td>\n",
       "      <td>Gustavo Barbosa</td>\n",
       "      <td>M</td>\n",
       "      <td>1975-12-30</td>\n",
       "    </tr>\n",
       "  </tbody>\n",
       "</table>\n",
       "<p>1000 rows × 4 columns</p>\n",
       "</div>"
      ],
      "text/plain": [
       "       id               nome sexo    dt_nasc\n",
       "0       1      Lavinia Sousa    F 1975-05-02\n",
       "1       2       Caio Pereira    M 1978-04-16\n",
       "2       3      Júlio Azevedo    M 1952-11-04\n",
       "3       4    Sarah Goncalves    F 1937-02-24\n",
       "4       5  Gabrielle Martins    F 1953-05-06\n",
       "..    ...                ...  ...        ...\n",
       "995   996     Ágatha Ribeiro    F 1946-02-08\n",
       "996   997     Laura Oliveira    F 1979-06-15\n",
       "997   998      Lara Oliveira    F 1946-03-15\n",
       "998   999       Julian Cunha    M 1994-06-20\n",
       "999  1000    Gustavo Barbosa    M 1975-12-30\n",
       "\n",
       "[1000 rows x 4 columns]"
      ]
     },
     "execution_count": 130,
     "metadata": {},
     "output_type": "execute_result"
    }
   ],
   "source": [
    "# Convertendo o formato da coluna data\n",
    "df_clientes.dt_nasc = pd.to_datetime(df_clientes.dt_nasc, format='%m/%d/%Y')\n",
    "df_clientes"
   ]
  },
  {
   "cell_type": "markdown",
   "metadata": {},
   "source": [
    "### Indexes"
   ]
  },
  {
   "cell_type": "code",
   "execution_count": 131,
   "metadata": {},
   "outputs": [
    {
     "data": {
      "text/html": [
       "<div>\n",
       "<style scoped>\n",
       "    .dataframe tbody tr th:only-of-type {\n",
       "        vertical-align: middle;\n",
       "    }\n",
       "\n",
       "    .dataframe tbody tr th {\n",
       "        vertical-align: top;\n",
       "    }\n",
       "\n",
       "    .dataframe thead th {\n",
       "        text-align: right;\n",
       "    }\n",
       "</style>\n",
       "<table border=\"1\" class=\"dataframe\">\n",
       "  <thead>\n",
       "    <tr style=\"text-align: right;\">\n",
       "      <th></th>\n",
       "      <th>nome</th>\n",
       "      <th>sexo</th>\n",
       "      <th>dt_nasc</th>\n",
       "    </tr>\n",
       "    <tr>\n",
       "      <th>id</th>\n",
       "      <th></th>\n",
       "      <th></th>\n",
       "      <th></th>\n",
       "    </tr>\n",
       "  </thead>\n",
       "  <tbody>\n",
       "    <tr>\n",
       "      <th>1</th>\n",
       "      <td>Lavinia Sousa</td>\n",
       "      <td>F</td>\n",
       "      <td>1975-05-02</td>\n",
       "    </tr>\n",
       "    <tr>\n",
       "      <th>2</th>\n",
       "      <td>Caio Pereira</td>\n",
       "      <td>M</td>\n",
       "      <td>1978-04-16</td>\n",
       "    </tr>\n",
       "    <tr>\n",
       "      <th>3</th>\n",
       "      <td>Júlio Azevedo</td>\n",
       "      <td>M</td>\n",
       "      <td>1952-11-04</td>\n",
       "    </tr>\n",
       "    <tr>\n",
       "      <th>4</th>\n",
       "      <td>Sarah Goncalves</td>\n",
       "      <td>F</td>\n",
       "      <td>1937-02-24</td>\n",
       "    </tr>\n",
       "    <tr>\n",
       "      <th>5</th>\n",
       "      <td>Gabrielle Martins</td>\n",
       "      <td>F</td>\n",
       "      <td>1953-05-06</td>\n",
       "    </tr>\n",
       "    <tr>\n",
       "      <th>...</th>\n",
       "      <td>...</td>\n",
       "      <td>...</td>\n",
       "      <td>...</td>\n",
       "    </tr>\n",
       "    <tr>\n",
       "      <th>996</th>\n",
       "      <td>Ágatha Ribeiro</td>\n",
       "      <td>F</td>\n",
       "      <td>1946-02-08</td>\n",
       "    </tr>\n",
       "    <tr>\n",
       "      <th>997</th>\n",
       "      <td>Laura Oliveira</td>\n",
       "      <td>F</td>\n",
       "      <td>1979-06-15</td>\n",
       "    </tr>\n",
       "    <tr>\n",
       "      <th>998</th>\n",
       "      <td>Lara Oliveira</td>\n",
       "      <td>F</td>\n",
       "      <td>1946-03-15</td>\n",
       "    </tr>\n",
       "    <tr>\n",
       "      <th>999</th>\n",
       "      <td>Julian Cunha</td>\n",
       "      <td>M</td>\n",
       "      <td>1994-06-20</td>\n",
       "    </tr>\n",
       "    <tr>\n",
       "      <th>1000</th>\n",
       "      <td>Gustavo Barbosa</td>\n",
       "      <td>M</td>\n",
       "      <td>1975-12-30</td>\n",
       "    </tr>\n",
       "  </tbody>\n",
       "</table>\n",
       "<p>1000 rows × 3 columns</p>\n",
       "</div>"
      ],
      "text/plain": [
       "                   nome sexo    dt_nasc\n",
       "id                                     \n",
       "1         Lavinia Sousa    F 1975-05-02\n",
       "2          Caio Pereira    M 1978-04-16\n",
       "3         Júlio Azevedo    M 1952-11-04\n",
       "4       Sarah Goncalves    F 1937-02-24\n",
       "5     Gabrielle Martins    F 1953-05-06\n",
       "...                 ...  ...        ...\n",
       "996      Ágatha Ribeiro    F 1946-02-08\n",
       "997      Laura Oliveira    F 1979-06-15\n",
       "998       Lara Oliveira    F 1946-03-15\n",
       "999        Julian Cunha    M 1994-06-20\n",
       "1000    Gustavo Barbosa    M 1975-12-30\n",
       "\n",
       "[1000 rows x 3 columns]"
      ]
     },
     "execution_count": 131,
     "metadata": {},
     "output_type": "execute_result"
    }
   ],
   "source": [
    "df_clientes = df_clientes.set_index('id')\n",
    "df_clientes"
   ]
  },
  {
   "cell_type": "code",
   "execution_count": 132,
   "metadata": {},
   "outputs": [],
   "source": [
    "df_lojas = df_lojas.set_index('id')\n",
    "df_produtos = df_produtos.set_index('id')\n",
    "df_vendas = df_vendas.set_index('id')\n",
    "df_pagamentos = df_pagamentos.set_index('id')"
   ]
  },
  {
   "cell_type": "markdown",
   "metadata": {},
   "source": [
    "### Data Fusion"
   ]
  },
  {
   "cell_type": "code",
   "execution_count": 133,
   "metadata": {},
   "outputs": [],
   "source": [
    "df = df_vendas.join(df_clientes.add_prefix('cliente_'), on='id_cliente')\n",
    "df = df.join(df_lojas.add_prefix('loja_'), on='id_loja')\n",
    "df = df.join(df_produtos.add_prefix('produto_'), on='id_produto')"
   ]
  },
  {
   "cell_type": "code",
   "execution_count": 134,
   "metadata": {},
   "outputs": [
    {
     "data": {
      "text/html": [
       "<div>\n",
       "<style scoped>\n",
       "    .dataframe tbody tr th:only-of-type {\n",
       "        vertical-align: middle;\n",
       "    }\n",
       "\n",
       "    .dataframe tbody tr th {\n",
       "        vertical-align: top;\n",
       "    }\n",
       "\n",
       "    .dataframe thead th {\n",
       "        text-align: right;\n",
       "    }\n",
       "</style>\n",
       "<table border=\"1\" class=\"dataframe\">\n",
       "  <thead>\n",
       "    <tr style=\"text-align: right;\">\n",
       "      <th></th>\n",
       "      <th>id_cliente</th>\n",
       "      <th>id_loja</th>\n",
       "      <th>id_produto</th>\n",
       "      <th>dt_venda</th>\n",
       "      <th>cliente_nome</th>\n",
       "      <th>cliente_sexo</th>\n",
       "      <th>cliente_dt_nasc</th>\n",
       "      <th>loja_cidade</th>\n",
       "      <th>produto_produto</th>\n",
       "      <th>produto_valor</th>\n",
       "    </tr>\n",
       "    <tr>\n",
       "      <th>id</th>\n",
       "      <th></th>\n",
       "      <th></th>\n",
       "      <th></th>\n",
       "      <th></th>\n",
       "      <th></th>\n",
       "      <th></th>\n",
       "      <th></th>\n",
       "      <th></th>\n",
       "      <th></th>\n",
       "      <th></th>\n",
       "    </tr>\n",
       "  </thead>\n",
       "  <tbody>\n",
       "    <tr>\n",
       "      <th>1</th>\n",
       "      <td>393</td>\n",
       "      <td>9</td>\n",
       "      <td>3</td>\n",
       "      <td>2018-01-04</td>\n",
       "      <td>Gustavo Silva</td>\n",
       "      <td>M</td>\n",
       "      <td>1950-01-04</td>\n",
       "      <td>Palmas</td>\n",
       "      <td>laptop básico</td>\n",
       "      <td>2300.0</td>\n",
       "    </tr>\n",
       "    <tr>\n",
       "      <th>2</th>\n",
       "      <td>417</td>\n",
       "      <td>9</td>\n",
       "      <td>3</td>\n",
       "      <td>2018-01-04</td>\n",
       "      <td>Leonor Almeida</td>\n",
       "      <td>F</td>\n",
       "      <td>1972-01-31</td>\n",
       "      <td>Palmas</td>\n",
       "      <td>laptop básico</td>\n",
       "      <td>2300.0</td>\n",
       "    </tr>\n",
       "    <tr>\n",
       "      <th>3</th>\n",
       "      <td>374</td>\n",
       "      <td>7</td>\n",
       "      <td>8</td>\n",
       "      <td>2018-01-04</td>\n",
       "      <td>André Alves</td>\n",
       "      <td>M</td>\n",
       "      <td>1962-08-03</td>\n",
       "      <td>Salvador</td>\n",
       "      <td>cadeira</td>\n",
       "      <td>540.0</td>\n",
       "    </tr>\n",
       "    <tr>\n",
       "      <th>4</th>\n",
       "      <td>59</td>\n",
       "      <td>4</td>\n",
       "      <td>3</td>\n",
       "      <td>2018-01-05</td>\n",
       "      <td>Rodrigo Ribeiro</td>\n",
       "      <td>M</td>\n",
       "      <td>1941-11-05</td>\n",
       "      <td>Belo Horizonte</td>\n",
       "      <td>laptop básico</td>\n",
       "      <td>2300.0</td>\n",
       "    </tr>\n",
       "    <tr>\n",
       "      <th>5</th>\n",
       "      <td>18</td>\n",
       "      <td>9</td>\n",
       "      <td>1</td>\n",
       "      <td>2018-01-05</td>\n",
       "      <td>Antônio Azevedo</td>\n",
       "      <td>M</td>\n",
       "      <td>1941-04-15</td>\n",
       "      <td>Palmas</td>\n",
       "      <td>mouse</td>\n",
       "      <td>20.0</td>\n",
       "    </tr>\n",
       "  </tbody>\n",
       "</table>\n",
       "</div>"
      ],
      "text/plain": [
       "    id_cliente  id_loja  id_produto   dt_venda     cliente_nome cliente_sexo  \\\n",
       "id                                                                             \n",
       "1          393        9           3 2018-01-04    Gustavo Silva            M   \n",
       "2          417        9           3 2018-01-04   Leonor Almeida            F   \n",
       "3          374        7           8 2018-01-04      André Alves            M   \n",
       "4           59        4           3 2018-01-05  Rodrigo Ribeiro            M   \n",
       "5           18        9           1 2018-01-05  Antônio Azevedo            M   \n",
       "\n",
       "   cliente_dt_nasc     loja_cidade produto_produto  produto_valor  \n",
       "id                                                                 \n",
       "1       1950-01-04          Palmas   laptop básico         2300.0  \n",
       "2       1972-01-31          Palmas   laptop básico         2300.0  \n",
       "3       1962-08-03        Salvador         cadeira          540.0  \n",
       "4       1941-11-05  Belo Horizonte   laptop básico         2300.0  \n",
       "5       1941-04-15          Palmas           mouse           20.0  "
      ]
     },
     "execution_count": 134,
     "metadata": {},
     "output_type": "execute_result"
    }
   ],
   "source": [
    "df.head()"
   ]
  },
  {
   "cell_type": "code",
   "execution_count": 135,
   "metadata": {},
   "outputs": [
    {
     "data": {
      "text/html": [
       "<div>\n",
       "<style scoped>\n",
       "    .dataframe tbody tr th:only-of-type {\n",
       "        vertical-align: middle;\n",
       "    }\n",
       "\n",
       "    .dataframe tbody tr th {\n",
       "        vertical-align: top;\n",
       "    }\n",
       "\n",
       "    .dataframe thead th {\n",
       "        text-align: right;\n",
       "    }\n",
       "</style>\n",
       "<table border=\"1\" class=\"dataframe\">\n",
       "  <thead>\n",
       "    <tr style=\"text-align: right;\">\n",
       "      <th></th>\n",
       "      <th>id_cliente</th>\n",
       "      <th>id_loja</th>\n",
       "      <th>id_produto</th>\n",
       "      <th>dt_venda</th>\n",
       "      <th>cliente_nome</th>\n",
       "      <th>cliente_sexo</th>\n",
       "      <th>cliente_dt_nasc</th>\n",
       "      <th>loja_cidade</th>\n",
       "      <th>produto_produto</th>\n",
       "      <th>produto_valor</th>\n",
       "      <th>dt_pgto</th>\n",
       "    </tr>\n",
       "    <tr>\n",
       "      <th>id</th>\n",
       "      <th></th>\n",
       "      <th></th>\n",
       "      <th></th>\n",
       "      <th></th>\n",
       "      <th></th>\n",
       "      <th></th>\n",
       "      <th></th>\n",
       "      <th></th>\n",
       "      <th></th>\n",
       "      <th></th>\n",
       "      <th></th>\n",
       "    </tr>\n",
       "  </thead>\n",
       "  <tbody>\n",
       "    <tr>\n",
       "      <th>1</th>\n",
       "      <td>393</td>\n",
       "      <td>9</td>\n",
       "      <td>3</td>\n",
       "      <td>2018-01-04</td>\n",
       "      <td>Gustavo Silva</td>\n",
       "      <td>M</td>\n",
       "      <td>1950-01-04</td>\n",
       "      <td>Palmas</td>\n",
       "      <td>laptop básico</td>\n",
       "      <td>2300.0</td>\n",
       "      <td>2018-01-24</td>\n",
       "    </tr>\n",
       "    <tr>\n",
       "      <th>2</th>\n",
       "      <td>417</td>\n",
       "      <td>9</td>\n",
       "      <td>3</td>\n",
       "      <td>2018-01-04</td>\n",
       "      <td>Leonor Almeida</td>\n",
       "      <td>F</td>\n",
       "      <td>1972-01-31</td>\n",
       "      <td>Palmas</td>\n",
       "      <td>laptop básico</td>\n",
       "      <td>2300.0</td>\n",
       "      <td>2018-02-17</td>\n",
       "    </tr>\n",
       "    <tr>\n",
       "      <th>3</th>\n",
       "      <td>374</td>\n",
       "      <td>7</td>\n",
       "      <td>8</td>\n",
       "      <td>2018-01-04</td>\n",
       "      <td>André Alves</td>\n",
       "      <td>M</td>\n",
       "      <td>1962-08-03</td>\n",
       "      <td>Salvador</td>\n",
       "      <td>cadeira</td>\n",
       "      <td>540.0</td>\n",
       "      <td>2018-02-14</td>\n",
       "    </tr>\n",
       "    <tr>\n",
       "      <th>4</th>\n",
       "      <td>59</td>\n",
       "      <td>4</td>\n",
       "      <td>3</td>\n",
       "      <td>2018-01-05</td>\n",
       "      <td>Rodrigo Ribeiro</td>\n",
       "      <td>M</td>\n",
       "      <td>1941-11-05</td>\n",
       "      <td>Belo Horizonte</td>\n",
       "      <td>laptop básico</td>\n",
       "      <td>2300.0</td>\n",
       "      <td>NaT</td>\n",
       "    </tr>\n",
       "    <tr>\n",
       "      <th>5</th>\n",
       "      <td>18</td>\n",
       "      <td>9</td>\n",
       "      <td>1</td>\n",
       "      <td>2018-01-05</td>\n",
       "      <td>Antônio Azevedo</td>\n",
       "      <td>M</td>\n",
       "      <td>1941-04-15</td>\n",
       "      <td>Palmas</td>\n",
       "      <td>mouse</td>\n",
       "      <td>20.0</td>\n",
       "      <td>2018-01-23</td>\n",
       "    </tr>\n",
       "  </tbody>\n",
       "</table>\n",
       "</div>"
      ],
      "text/plain": [
       "    id_cliente  id_loja  id_produto   dt_venda     cliente_nome cliente_sexo  \\\n",
       "id                                                                             \n",
       "1          393        9           3 2018-01-04    Gustavo Silva            M   \n",
       "2          417        9           3 2018-01-04   Leonor Almeida            F   \n",
       "3          374        7           8 2018-01-04      André Alves            M   \n",
       "4           59        4           3 2018-01-05  Rodrigo Ribeiro            M   \n",
       "5           18        9           1 2018-01-05  Antônio Azevedo            M   \n",
       "\n",
       "   cliente_dt_nasc     loja_cidade produto_produto  produto_valor    dt_pgto  \n",
       "id                                                                            \n",
       "1       1950-01-04          Palmas   laptop básico         2300.0 2018-01-24  \n",
       "2       1972-01-31          Palmas   laptop básico         2300.0 2018-02-17  \n",
       "3       1962-08-03        Salvador         cadeira          540.0 2018-02-14  \n",
       "4       1941-11-05  Belo Horizonte   laptop básico         2300.0        NaT  \n",
       "5       1941-04-15          Palmas           mouse           20.0 2018-01-23  "
      ]
     },
     "execution_count": 135,
     "metadata": {},
     "output_type": "execute_result"
    }
   ],
   "source": [
    "df = df.join(df_pagamentos.set_index('id_venda'))\n",
    "df.head()"
   ]
  },
  {
   "cell_type": "code",
   "execution_count": 136,
   "metadata": {},
   "outputs": [
    {
     "data": {
      "text/plain": [
       "id_cliente           0\n",
       "id_loja              0\n",
       "id_produto           0\n",
       "dt_venda             0\n",
       "cliente_nome         0\n",
       "cliente_sexo         0\n",
       "cliente_dt_nasc      0\n",
       "loja_cidade          0\n",
       "produto_produto      0\n",
       "produto_valor        0\n",
       "dt_pgto            928\n",
       "dtype: int64"
      ]
     },
     "execution_count": 136,
     "metadata": {},
     "output_type": "execute_result"
    }
   ],
   "source": [
    "df.isnull().sum()"
   ]
  },
  {
   "cell_type": "markdown",
   "metadata": {},
   "source": [
    "### Feature Engeneering"
   ]
  },
  {
   "cell_type": "code",
   "execution_count": 137,
   "metadata": {},
   "outputs": [
    {
     "data": {
      "text/html": [
       "<div>\n",
       "<style scoped>\n",
       "    .dataframe tbody tr th:only-of-type {\n",
       "        vertical-align: middle;\n",
       "    }\n",
       "\n",
       "    .dataframe tbody tr th {\n",
       "        vertical-align: top;\n",
       "    }\n",
       "\n",
       "    .dataframe thead th {\n",
       "        text-align: right;\n",
       "    }\n",
       "</style>\n",
       "<table border=\"1\" class=\"dataframe\">\n",
       "  <thead>\n",
       "    <tr style=\"text-align: right;\">\n",
       "      <th></th>\n",
       "      <th>id_cliente</th>\n",
       "      <th>id_loja</th>\n",
       "      <th>id_produto</th>\n",
       "      <th>dt_venda</th>\n",
       "      <th>cliente_nome</th>\n",
       "      <th>cliente_sexo</th>\n",
       "      <th>cliente_dt_nasc</th>\n",
       "      <th>loja_cidade</th>\n",
       "      <th>produto_produto</th>\n",
       "      <th>produto_valor</th>\n",
       "      <th>dt_pgto</th>\n",
       "      <th>pg</th>\n",
       "    </tr>\n",
       "    <tr>\n",
       "      <th>id</th>\n",
       "      <th></th>\n",
       "      <th></th>\n",
       "      <th></th>\n",
       "      <th></th>\n",
       "      <th></th>\n",
       "      <th></th>\n",
       "      <th></th>\n",
       "      <th></th>\n",
       "      <th></th>\n",
       "      <th></th>\n",
       "      <th></th>\n",
       "      <th></th>\n",
       "    </tr>\n",
       "  </thead>\n",
       "  <tbody>\n",
       "    <tr>\n",
       "      <th>1</th>\n",
       "      <td>393</td>\n",
       "      <td>9</td>\n",
       "      <td>3</td>\n",
       "      <td>2018-01-04</td>\n",
       "      <td>Gustavo Silva</td>\n",
       "      <td>M</td>\n",
       "      <td>1950-01-04</td>\n",
       "      <td>Palmas</td>\n",
       "      <td>laptop básico</td>\n",
       "      <td>2300.0</td>\n",
       "      <td>2018-01-24</td>\n",
       "      <td>1</td>\n",
       "    </tr>\n",
       "    <tr>\n",
       "      <th>2</th>\n",
       "      <td>417</td>\n",
       "      <td>9</td>\n",
       "      <td>3</td>\n",
       "      <td>2018-01-04</td>\n",
       "      <td>Leonor Almeida</td>\n",
       "      <td>F</td>\n",
       "      <td>1972-01-31</td>\n",
       "      <td>Palmas</td>\n",
       "      <td>laptop básico</td>\n",
       "      <td>2300.0</td>\n",
       "      <td>2018-02-17</td>\n",
       "      <td>1</td>\n",
       "    </tr>\n",
       "    <tr>\n",
       "      <th>3</th>\n",
       "      <td>374</td>\n",
       "      <td>7</td>\n",
       "      <td>8</td>\n",
       "      <td>2018-01-04</td>\n",
       "      <td>André Alves</td>\n",
       "      <td>M</td>\n",
       "      <td>1962-08-03</td>\n",
       "      <td>Salvador</td>\n",
       "      <td>cadeira</td>\n",
       "      <td>540.0</td>\n",
       "      <td>2018-02-14</td>\n",
       "      <td>1</td>\n",
       "    </tr>\n",
       "    <tr>\n",
       "      <th>4</th>\n",
       "      <td>59</td>\n",
       "      <td>4</td>\n",
       "      <td>3</td>\n",
       "      <td>2018-01-05</td>\n",
       "      <td>Rodrigo Ribeiro</td>\n",
       "      <td>M</td>\n",
       "      <td>1941-11-05</td>\n",
       "      <td>Belo Horizonte</td>\n",
       "      <td>laptop básico</td>\n",
       "      <td>2300.0</td>\n",
       "      <td>NaT</td>\n",
       "      <td>0</td>\n",
       "    </tr>\n",
       "    <tr>\n",
       "      <th>5</th>\n",
       "      <td>18</td>\n",
       "      <td>9</td>\n",
       "      <td>1</td>\n",
       "      <td>2018-01-05</td>\n",
       "      <td>Antônio Azevedo</td>\n",
       "      <td>M</td>\n",
       "      <td>1941-04-15</td>\n",
       "      <td>Palmas</td>\n",
       "      <td>mouse</td>\n",
       "      <td>20.0</td>\n",
       "      <td>2018-01-23</td>\n",
       "      <td>1</td>\n",
       "    </tr>\n",
       "  </tbody>\n",
       "</table>\n",
       "</div>"
      ],
      "text/plain": [
       "    id_cliente  id_loja  id_produto   dt_venda     cliente_nome cliente_sexo  \\\n",
       "id                                                                             \n",
       "1          393        9           3 2018-01-04    Gustavo Silva            M   \n",
       "2          417        9           3 2018-01-04   Leonor Almeida            F   \n",
       "3          374        7           8 2018-01-04      André Alves            M   \n",
       "4           59        4           3 2018-01-05  Rodrigo Ribeiro            M   \n",
       "5           18        9           1 2018-01-05  Antônio Azevedo            M   \n",
       "\n",
       "   cliente_dt_nasc     loja_cidade produto_produto  produto_valor    dt_pgto  \\\n",
       "id                                                                             \n",
       "1       1950-01-04          Palmas   laptop básico         2300.0 2018-01-24   \n",
       "2       1972-01-31          Palmas   laptop básico         2300.0 2018-02-17   \n",
       "3       1962-08-03        Salvador         cadeira          540.0 2018-02-14   \n",
       "4       1941-11-05  Belo Horizonte   laptop básico         2300.0        NaT   \n",
       "5       1941-04-15          Palmas           mouse           20.0 2018-01-23   \n",
       "\n",
       "    pg  \n",
       "id      \n",
       "1    1  \n",
       "2    1  \n",
       "3    1  \n",
       "4    0  \n",
       "5    1  "
      ]
     },
     "execution_count": 137,
     "metadata": {},
     "output_type": "execute_result"
    }
   ],
   "source": [
    "# Criar coluna de pagamento\n",
    "df['pg'] = 1\n",
    "df.loc[df.dt_pgto.isnull(), 'pg'] = 0\n",
    "df.head()"
   ]
  },
  {
   "cell_type": "code",
   "execution_count": 138,
   "metadata": {},
   "outputs": [
    {
     "data": {
      "text/html": [
       "<div>\n",
       "<style scoped>\n",
       "    .dataframe tbody tr th:only-of-type {\n",
       "        vertical-align: middle;\n",
       "    }\n",
       "\n",
       "    .dataframe tbody tr th {\n",
       "        vertical-align: top;\n",
       "    }\n",
       "\n",
       "    .dataframe thead th {\n",
       "        text-align: right;\n",
       "    }\n",
       "</style>\n",
       "<table border=\"1\" class=\"dataframe\">\n",
       "  <thead>\n",
       "    <tr style=\"text-align: right;\">\n",
       "      <th></th>\n",
       "      <th>id_cliente</th>\n",
       "      <th>id_loja</th>\n",
       "      <th>id_produto</th>\n",
       "      <th>dt_venda</th>\n",
       "      <th>cliente_nome</th>\n",
       "      <th>cliente_sexo</th>\n",
       "      <th>cliente_dt_nasc</th>\n",
       "      <th>loja_cidade</th>\n",
       "      <th>produto_produto</th>\n",
       "      <th>produto_valor</th>\n",
       "      <th>dt_pgto</th>\n",
       "      <th>pg</th>\n",
       "      <th>tempo_pg</th>\n",
       "    </tr>\n",
       "    <tr>\n",
       "      <th>id</th>\n",
       "      <th></th>\n",
       "      <th></th>\n",
       "      <th></th>\n",
       "      <th></th>\n",
       "      <th></th>\n",
       "      <th></th>\n",
       "      <th></th>\n",
       "      <th></th>\n",
       "      <th></th>\n",
       "      <th></th>\n",
       "      <th></th>\n",
       "      <th></th>\n",
       "      <th></th>\n",
       "    </tr>\n",
       "  </thead>\n",
       "  <tbody>\n",
       "    <tr>\n",
       "      <th>1</th>\n",
       "      <td>393</td>\n",
       "      <td>9</td>\n",
       "      <td>3</td>\n",
       "      <td>2018-01-04</td>\n",
       "      <td>Gustavo Silva</td>\n",
       "      <td>M</td>\n",
       "      <td>1950-01-04</td>\n",
       "      <td>Palmas</td>\n",
       "      <td>laptop básico</td>\n",
       "      <td>2300.0</td>\n",
       "      <td>2018-01-24</td>\n",
       "      <td>1</td>\n",
       "      <td>20.0</td>\n",
       "    </tr>\n",
       "    <tr>\n",
       "      <th>2</th>\n",
       "      <td>417</td>\n",
       "      <td>9</td>\n",
       "      <td>3</td>\n",
       "      <td>2018-01-04</td>\n",
       "      <td>Leonor Almeida</td>\n",
       "      <td>F</td>\n",
       "      <td>1972-01-31</td>\n",
       "      <td>Palmas</td>\n",
       "      <td>laptop básico</td>\n",
       "      <td>2300.0</td>\n",
       "      <td>2018-02-17</td>\n",
       "      <td>1</td>\n",
       "      <td>44.0</td>\n",
       "    </tr>\n",
       "    <tr>\n",
       "      <th>3</th>\n",
       "      <td>374</td>\n",
       "      <td>7</td>\n",
       "      <td>8</td>\n",
       "      <td>2018-01-04</td>\n",
       "      <td>André Alves</td>\n",
       "      <td>M</td>\n",
       "      <td>1962-08-03</td>\n",
       "      <td>Salvador</td>\n",
       "      <td>cadeira</td>\n",
       "      <td>540.0</td>\n",
       "      <td>2018-02-14</td>\n",
       "      <td>1</td>\n",
       "      <td>41.0</td>\n",
       "    </tr>\n",
       "    <tr>\n",
       "      <th>4</th>\n",
       "      <td>59</td>\n",
       "      <td>4</td>\n",
       "      <td>3</td>\n",
       "      <td>2018-01-05</td>\n",
       "      <td>Rodrigo Ribeiro</td>\n",
       "      <td>M</td>\n",
       "      <td>1941-11-05</td>\n",
       "      <td>Belo Horizonte</td>\n",
       "      <td>laptop básico</td>\n",
       "      <td>2300.0</td>\n",
       "      <td>NaT</td>\n",
       "      <td>0</td>\n",
       "      <td>NaN</td>\n",
       "    </tr>\n",
       "    <tr>\n",
       "      <th>5</th>\n",
       "      <td>18</td>\n",
       "      <td>9</td>\n",
       "      <td>1</td>\n",
       "      <td>2018-01-05</td>\n",
       "      <td>Antônio Azevedo</td>\n",
       "      <td>M</td>\n",
       "      <td>1941-04-15</td>\n",
       "      <td>Palmas</td>\n",
       "      <td>mouse</td>\n",
       "      <td>20.0</td>\n",
       "      <td>2018-01-23</td>\n",
       "      <td>1</td>\n",
       "      <td>18.0</td>\n",
       "    </tr>\n",
       "  </tbody>\n",
       "</table>\n",
       "</div>"
      ],
      "text/plain": [
       "    id_cliente  id_loja  id_produto   dt_venda     cliente_nome cliente_sexo  \\\n",
       "id                                                                             \n",
       "1          393        9           3 2018-01-04    Gustavo Silva            M   \n",
       "2          417        9           3 2018-01-04   Leonor Almeida            F   \n",
       "3          374        7           8 2018-01-04      André Alves            M   \n",
       "4           59        4           3 2018-01-05  Rodrigo Ribeiro            M   \n",
       "5           18        9           1 2018-01-05  Antônio Azevedo            M   \n",
       "\n",
       "   cliente_dt_nasc     loja_cidade produto_produto  produto_valor    dt_pgto  \\\n",
       "id                                                                             \n",
       "1       1950-01-04          Palmas   laptop básico         2300.0 2018-01-24   \n",
       "2       1972-01-31          Palmas   laptop básico         2300.0 2018-02-17   \n",
       "3       1962-08-03        Salvador         cadeira          540.0 2018-02-14   \n",
       "4       1941-11-05  Belo Horizonte   laptop básico         2300.0        NaT   \n",
       "5       1941-04-15          Palmas           mouse           20.0 2018-01-23   \n",
       "\n",
       "    pg  tempo_pg  \n",
       "id                \n",
       "1    1      20.0  \n",
       "2    1      44.0  \n",
       "3    1      41.0  \n",
       "4    0       NaN  \n",
       "5    1      18.0  "
      ]
     },
     "execution_count": 138,
     "metadata": {},
     "output_type": "execute_result"
    }
   ],
   "source": [
    "# Identificando o tempo de pagamento\n",
    "df['tempo_pg'] = (df.dt_pgto - df.dt_venda).dt.days\n",
    "df.head()"
   ]
  },
  {
   "cell_type": "code",
   "execution_count": 139,
   "metadata": {},
   "outputs": [
    {
     "data": {
      "text/html": [
       "<div>\n",
       "<style scoped>\n",
       "    .dataframe tbody tr th:only-of-type {\n",
       "        vertical-align: middle;\n",
       "    }\n",
       "\n",
       "    .dataframe tbody tr th {\n",
       "        vertical-align: top;\n",
       "    }\n",
       "\n",
       "    .dataframe thead th {\n",
       "        text-align: right;\n",
       "    }\n",
       "</style>\n",
       "<table border=\"1\" class=\"dataframe\">\n",
       "  <thead>\n",
       "    <tr style=\"text-align: right;\">\n",
       "      <th></th>\n",
       "      <th>id_cliente</th>\n",
       "      <th>id_loja</th>\n",
       "      <th>id_produto</th>\n",
       "      <th>dt_venda</th>\n",
       "      <th>cliente_nome</th>\n",
       "      <th>cliente_sexo</th>\n",
       "      <th>cliente_dt_nasc</th>\n",
       "      <th>loja_cidade</th>\n",
       "      <th>produto_produto</th>\n",
       "      <th>produto_valor</th>\n",
       "      <th>dt_pgto</th>\n",
       "      <th>pg</th>\n",
       "      <th>tempo_pg</th>\n",
       "      <th>cliente_idade</th>\n",
       "    </tr>\n",
       "    <tr>\n",
       "      <th>id</th>\n",
       "      <th></th>\n",
       "      <th></th>\n",
       "      <th></th>\n",
       "      <th></th>\n",
       "      <th></th>\n",
       "      <th></th>\n",
       "      <th></th>\n",
       "      <th></th>\n",
       "      <th></th>\n",
       "      <th></th>\n",
       "      <th></th>\n",
       "      <th></th>\n",
       "      <th></th>\n",
       "      <th></th>\n",
       "    </tr>\n",
       "  </thead>\n",
       "  <tbody>\n",
       "    <tr>\n",
       "      <th>1</th>\n",
       "      <td>393</td>\n",
       "      <td>9</td>\n",
       "      <td>3</td>\n",
       "      <td>2018-01-04</td>\n",
       "      <td>Gustavo Silva</td>\n",
       "      <td>M</td>\n",
       "      <td>1950-01-04</td>\n",
       "      <td>Palmas</td>\n",
       "      <td>laptop básico</td>\n",
       "      <td>2300.0</td>\n",
       "      <td>2018-01-24</td>\n",
       "      <td>1</td>\n",
       "      <td>20.0</td>\n",
       "      <td>73</td>\n",
       "    </tr>\n",
       "    <tr>\n",
       "      <th>2</th>\n",
       "      <td>417</td>\n",
       "      <td>9</td>\n",
       "      <td>3</td>\n",
       "      <td>2018-01-04</td>\n",
       "      <td>Leonor Almeida</td>\n",
       "      <td>F</td>\n",
       "      <td>1972-01-31</td>\n",
       "      <td>Palmas</td>\n",
       "      <td>laptop básico</td>\n",
       "      <td>2300.0</td>\n",
       "      <td>2018-02-17</td>\n",
       "      <td>1</td>\n",
       "      <td>44.0</td>\n",
       "      <td>51</td>\n",
       "    </tr>\n",
       "    <tr>\n",
       "      <th>3</th>\n",
       "      <td>374</td>\n",
       "      <td>7</td>\n",
       "      <td>8</td>\n",
       "      <td>2018-01-04</td>\n",
       "      <td>André Alves</td>\n",
       "      <td>M</td>\n",
       "      <td>1962-08-03</td>\n",
       "      <td>Salvador</td>\n",
       "      <td>cadeira</td>\n",
       "      <td>540.0</td>\n",
       "      <td>2018-02-14</td>\n",
       "      <td>1</td>\n",
       "      <td>41.0</td>\n",
       "      <td>61</td>\n",
       "    </tr>\n",
       "    <tr>\n",
       "      <th>4</th>\n",
       "      <td>59</td>\n",
       "      <td>4</td>\n",
       "      <td>3</td>\n",
       "      <td>2018-01-05</td>\n",
       "      <td>Rodrigo Ribeiro</td>\n",
       "      <td>M</td>\n",
       "      <td>1941-11-05</td>\n",
       "      <td>Belo Horizonte</td>\n",
       "      <td>laptop básico</td>\n",
       "      <td>2300.0</td>\n",
       "      <td>NaT</td>\n",
       "      <td>0</td>\n",
       "      <td>NaN</td>\n",
       "      <td>81</td>\n",
       "    </tr>\n",
       "    <tr>\n",
       "      <th>5</th>\n",
       "      <td>18</td>\n",
       "      <td>9</td>\n",
       "      <td>1</td>\n",
       "      <td>2018-01-05</td>\n",
       "      <td>Antônio Azevedo</td>\n",
       "      <td>M</td>\n",
       "      <td>1941-04-15</td>\n",
       "      <td>Palmas</td>\n",
       "      <td>mouse</td>\n",
       "      <td>20.0</td>\n",
       "      <td>2018-01-23</td>\n",
       "      <td>1</td>\n",
       "      <td>18.0</td>\n",
       "      <td>82</td>\n",
       "    </tr>\n",
       "  </tbody>\n",
       "</table>\n",
       "</div>"
      ],
      "text/plain": [
       "    id_cliente  id_loja  id_produto   dt_venda     cliente_nome cliente_sexo  \\\n",
       "id                                                                             \n",
       "1          393        9           3 2018-01-04    Gustavo Silva            M   \n",
       "2          417        9           3 2018-01-04   Leonor Almeida            F   \n",
       "3          374        7           8 2018-01-04      André Alves            M   \n",
       "4           59        4           3 2018-01-05  Rodrigo Ribeiro            M   \n",
       "5           18        9           1 2018-01-05  Antônio Azevedo            M   \n",
       "\n",
       "   cliente_dt_nasc     loja_cidade produto_produto  produto_valor    dt_pgto  \\\n",
       "id                                                                             \n",
       "1       1950-01-04          Palmas   laptop básico         2300.0 2018-01-24   \n",
       "2       1972-01-31          Palmas   laptop básico         2300.0 2018-02-17   \n",
       "3       1962-08-03        Salvador         cadeira          540.0 2018-02-14   \n",
       "4       1941-11-05  Belo Horizonte   laptop básico         2300.0        NaT   \n",
       "5       1941-04-15          Palmas           mouse           20.0 2018-01-23   \n",
       "\n",
       "    pg  tempo_pg  cliente_idade  \n",
       "id                               \n",
       "1    1      20.0             73  \n",
       "2    1      44.0             51  \n",
       "3    1      41.0             61  \n",
       "4    0       NaN             81  \n",
       "5    1      18.0             82  "
      ]
     },
     "execution_count": 139,
     "metadata": {},
     "output_type": "execute_result"
    }
   ],
   "source": [
    "# Identificando a idade dos clientes\n",
    "df['cliente_idade'] = df['cliente_dt_nasc'].apply(lambda x: relativedelta(pd.to_datetime('today'), x).years)\n",
    "df.head()"
   ]
  },
  {
   "cell_type": "code",
   "execution_count": 140,
   "metadata": {},
   "outputs": [],
   "source": [
    "# Salvando uma cópia do csv com todos os tratamentos \n",
    "# df.to_csv('df.csv')"
   ]
  },
  {
   "cell_type": "markdown",
   "metadata": {},
   "source": [
    "## Análise de dados"
   ]
  },
  {
   "cell_type": "markdown",
   "metadata": {},
   "source": [
    "### Lojas e Produtos que mais vendem"
   ]
  },
  {
   "cell_type": "code",
   "execution_count": 141,
   "metadata": {},
   "outputs": [
    {
     "data": {
      "text/plain": [
       "loja_cidade\n",
       "Rio de Janeiro    1087\n",
       "Salvador           234\n",
       "Vitória            231\n",
       "Brasília           223\n",
       "Belo Horizonte     221\n",
       "Recife             211\n",
       "São Paulo          207\n",
       "Palmas             202\n",
       "Curitiba           193\n",
       "Santa Catarina     191\n",
       "Name: produto_valor, dtype: int64"
      ]
     },
     "execution_count": 141,
     "metadata": {},
     "output_type": "execute_result"
    }
   ],
   "source": [
    "graf_dados = df.groupby('loja_cidade').count().produto_valor.sort_values(ascending=False)\n",
    "graf_dados"
   ]
  },
  {
   "cell_type": "code",
   "execution_count": 142,
   "metadata": {},
   "outputs": [
    {
     "data": {
      "image/png": "[encoded data removed]",
      "text/plain": [
       "<Figure size 1500x500 with 1 Axes>"
      ]
     },
     "metadata": {},
     "output_type": "display_data"
    }
   ],
   "source": [
    "plt.figure(figsize=(15,5))\n",
    "plt.bar(graf_dados.index, graf_dados.values)\n",
    "plt.title('Vendas por loja')\n",
    "plt.show()"
   ]
  },
  {
   "cell_type": "markdown",
   "metadata": {},
   "source": [
    "### Produtos que mais vendem"
   ]
  },
  {
   "cell_type": "code",
   "execution_count": 143,
   "metadata": {},
   "outputs": [
    {
     "data": {
      "text/plain": [
       "produto_produto\n",
       "laptop básico    1395\n",
       "teclado           204\n",
       "impressora        191\n",
       "monitor           187\n",
       "xxx-231a          182\n",
       "Name: produto_valor, dtype: int64"
      ]
     },
     "execution_count": 143,
     "metadata": {},
     "output_type": "execute_result"
    }
   ],
   "source": [
    "graf_dados = df.groupby('produto_produto').count().produto_valor.sort_values(ascending=False)\n",
    "graf_dados.head()"
   ]
  },
  {
   "cell_type": "code",
   "execution_count": 144,
   "metadata": {},
   "outputs": [
    {
     "data": {
      "image/png": "[encoded data removed]",
      "text/plain": [
       "<Figure size 1500x500 with 1 Axes>"
      ]
     },
     "metadata": {},
     "output_type": "display_data"
    }
   ],
   "source": [
    "plt.figure(figsize=(15,5))\n",
    "plt.bar(graf_dados.index, graf_dados.values)\n",
    "plt.title('Vendas por produto')\n",
    "plt.show()"
   ]
  },
  {
   "cell_type": "markdown",
   "metadata": {},
   "source": [
    "### Receita por loja"
   ]
  },
  {
   "cell_type": "code",
   "execution_count": 145,
   "metadata": {},
   "outputs": [
    {
     "data": {
      "text/plain": [
       "loja_cidade\n",
       "Rio de Janeiro    1.797907e+06\n",
       "Brasília          3.779836e+05\n",
       "Belo Horizonte    3.757225e+05\n",
       "Salvador          3.752382e+05\n",
       "Vitória           3.655850e+05\n",
       "São Paulo         3.407579e+05\n",
       "Recife            3.329236e+05\n",
       "Palmas            3.168370e+05\n",
       "Santa Catarina    3.133314e+05\n",
       "Curitiba          3.032404e+05\n",
       "Name: produto_valor, dtype: float64"
      ]
     },
     "execution_count": 145,
     "metadata": {},
     "output_type": "execute_result"
    }
   ],
   "source": [
    "graf_dados = df[['loja_cidade', 'produto_valor']].groupby('loja_cidade').sum().produto_valor.sort_values(ascending=False)\n",
    "graf_dados"
   ]
  },
  {
   "cell_type": "code",
   "execution_count": 146,
   "metadata": {},
   "outputs": [
    {
     "data": {
      "image/png": "[encoded data removed]",
      "text/plain": [
       "<Figure size 1500x500 with 1 Axes>"
      ]
     },
     "metadata": {},
     "output_type": "display_data"
    }
   ],
   "source": [
    "plt.figure(figsize=(15,5))\n",
    "plt.bar(graf_dados.index, graf_dados.values)\n",
    "plt.title('Receita por Loja')\n",
    "plt.show()\n"
   ]
  },
  {
   "cell_type": "code",
   "execution_count": 147,
   "metadata": {},
   "outputs": [
    {
     "name": "stdout",
     "output_type": "stream",
     "text": [
      "O maior valor é 1797906, sendo 5.22 vezes a média dos demais, que é 344624\n"
     ]
    }
   ],
   "source": [
    "print('O maior valor é %i, sendo %.2f vezes a média dos demais, que é %i' % (graf_dados.max(), graf_dados.max()/graf_dados[graf_dados!=graf_dados.max()].mean(), graf_dados[graf_dados!=graf_dados.max()].mean()))"
   ]
  },
  {
   "cell_type": "markdown",
   "metadata": {},
   "source": [
    "### Receita por produto"
   ]
  },
  {
   "cell_type": "code",
   "execution_count": 148,
   "metadata": {},
   "outputs": [
    {
     "data": {
      "text/plain": [
       "loja_cidade\n",
       "Rio de Janeiro    1.797907e+06\n",
       "Brasília          3.779836e+05\n",
       "Belo Horizonte    3.757225e+05\n",
       "Salvador          3.752382e+05\n",
       "Vitória           3.655850e+05\n",
       "São Paulo         3.407579e+05\n",
       "Recife            3.329236e+05\n",
       "Palmas            3.168370e+05\n",
       "Santa Catarina    3.133314e+05\n",
       "Curitiba          3.032404e+05\n",
       "Name: produto_valor, dtype: float64"
      ]
     },
     "execution_count": 148,
     "metadata": {},
     "output_type": "execute_result"
    }
   ],
   "source": [
    "df[['produto_produto', 'produto_valor']].groupby('produto_produto').sum().produto_valor.sort_values(ascending=False)\n",
    "graf_dados"
   ]
  },
  {
   "cell_type": "code",
   "execution_count": 149,
   "metadata": {},
   "outputs": [
    {
     "data": {
      "image/png": "[encoded data removed]",
      "text/plain": [
       "<Figure size 1500x500 with 1 Axes>"
      ]
     },
     "metadata": {},
     "output_type": "display_data"
    }
   ],
   "source": [
    "plt.figure(figsize=(15,5))\n",
    "plt.bar(graf_dados.index, graf_dados.values)\n",
    "plt.title('Receita por produto')\n",
    "plt.show()"
   ]
  },
  {
   "cell_type": "markdown",
   "metadata": {},
   "source": [
    "### Subplots"
   ]
  },
  {
   "cell_type": "code",
   "execution_count": 150,
   "metadata": {},
   "outputs": [
    {
     "data": {
      "image/png": "[encoded data removed]",
      "text/plain": [
       "<Figure size 1000x700 with 4 Axes>"
      ]
     },
     "metadata": {},
     "output_type": "display_data"
    }
   ],
   "source": [
    "plt.figure(figsize=(10,7))\n",
    "plt.subplot(2,2,1)\n",
    "graf_dados = df.groupby('loja_cidade').count().produto_valor.sort_values(ascending=False)\n",
    "plt.bar(graf_dados.index, graf_dados.values)\n",
    "plt.xticks(rotation=90)\n",
    "plt.title('Vendas por loja')\n",
    "\n",
    "plt.subplot(2,2,2)\n",
    "graf_dados = df.groupby('produto_produto').count().produto_valor.sort_values(ascending=False)\n",
    "plt.bar(graf_dados.index, graf_dados.values)\n",
    "plt.xticks(rotation=90)\n",
    "plt.title('Vendas por produto')\n",
    "\n",
    "plt.subplot(2,2,3)\n",
    "graf_dados = df[['loja_cidade', 'produto_valor']].groupby('loja_cidade').sum().produto_valor.sort_values(ascending=False)\n",
    "plt.bar(graf_dados.index, graf_dados.values)\n",
    "plt.xticks(rotation=90)\n",
    "plt.title('Receita por Loja')\n",
    "\n",
    "plt.subplot(2,2,4)\n",
    "df[['produto_produto', 'produto_valor']].groupby('produto_produto').sum().produto_valor.sort_values(ascending=False)\n",
    "plt.bar(graf_dados.index, graf_dados.values)\n",
    "plt.xticks(rotation=90)\n",
    "plt.title('Receita por produto')\n",
    "\n",
    "plt.tight_layout()\n",
    "plt.show()"
   ]
  },
  {
   "cell_type": "markdown",
   "metadata": {},
   "source": [
    "### Receita por cliente"
   ]
  },
  {
   "cell_type": "code",
   "execution_count": 151,
   "metadata": {},
   "outputs": [
    {
     "data": {
      "text/plain": [
       "cliente_nome\n",
       "Leila Costa         28970.0000\n",
       "Melissa Lima        25892.2704\n",
       "Lavinia Carvalho    25261.1352\n",
       "Fernanda Pinto      24660.0000\n",
       "Felipe Castro       22920.0000\n",
       "                       ...    \n",
       "Julieta Barros         20.0000\n",
       "Thaís Pinto            20.0000\n",
       "Giovana Barbosa        20.0000\n",
       "Diego Sousa            20.0000\n",
       "José Pinto             20.0000\n",
       "Name: produto_valor, Length: 861, dtype: float64"
      ]
     },
     "execution_count": 151,
     "metadata": {},
     "output_type": "execute_result"
    }
   ],
   "source": [
    "graf_dados = df[['cliente_nome', 'produto_valor']].groupby('cliente_nome').sum().produto_valor.sort_values(ascending=False)\n",
    "graf_dados"
   ]
  },
  {
   "cell_type": "code",
   "execution_count": 152,
   "metadata": {},
   "outputs": [
    {
     "data": {
      "image/png": "[encoded data removed]",
      "text/plain": [
       "<Figure size 1500x500 with 1 Axes>"
      ]
     },
     "metadata": {},
     "output_type": "display_data"
    }
   ],
   "source": [
    "plt.figure(figsize=(15,5))\n",
    "plt.plot(graf_dados.index, graf_dados.values)\n",
    "plt.title('Receita por cliente')\n",
    "plt.show()\n"
   ]
  },
  {
   "cell_type": "code",
   "execution_count": 153,
   "metadata": {},
   "outputs": [
    {
     "data": {
      "image/png": "[encoded data removed]",
      "text/plain": [
       "<Figure size 1500x500 with 2 Axes>"
      ]
     },
     "metadata": {},
     "output_type": "display_data"
    }
   ],
   "source": [
    "fig, ax = plt.subplots(figsize=(15,5))\n",
    "ax.plot(graf_dados.index, graf_dados.values, color='C0')\n",
    "ax2 = ax.twinx()\n",
    "ax2.plot(graf_dados.index, graf_dados.values.cumsum()/graf_dados.values.sum()*100, color='C1')\n",
    "ax2.yaxis.set_major_formatter(PercentFormatter())\n",
    "ax2.axes.get_xaxis().set_visible(False)\n",
    "ax.axes.get_xaxis().set_visible(False)\n",
    "plt.title('Receita por cliente')\n",
    "plt.show()\n"
   ]
  },
  {
   "cell_type": "code",
   "execution_count": 154,
   "metadata": {},
   "outputs": [
    {
     "data": {
      "text/plain": [
       "0.3170731707317073"
      ]
     },
     "execution_count": 154,
     "metadata": {},
     "output_type": "execute_result"
    }
   ],
   "source": [
    "receita_acumulada = graf_dados.cumsum()/graf_dados.sum()\n",
    "receita_acumulada[receita_acumulada<0.60].count()/receita_acumulada.count()"
   ]
  },
  {
   "cell_type": "markdown",
   "metadata": {},
   "source": [
    "### Pareto"
   ]
  },
  {
   "cell_type": "code",
   "execution_count": 155,
   "metadata": {},
   "outputs": [
    {
     "data": {
      "image/png": "[encoded data removed]",
      "text/plain": [
       "<Figure size 1500x500 with 2 Axes>"
      ]
     },
     "metadata": {},
     "output_type": "display_data"
    }
   ],
   "source": [
    "graf_dados = df[['produto_produto', 'produto_valor']].groupby('produto_produto').sum().produto_valor.sort_values(ascending=False)\n",
    "fig, ax = plt.subplots(figsize=(15,5))\n",
    "ax.bar(graf_dados.index, graf_dados.values, color='C0')\n",
    "ax2 = ax.twinx()\n",
    "ax2.plot(graf_dados.index, graf_dados.values.cumsum()/graf_dados.values.sum()*100, color='C1', marker='D')\n",
    "ax2.yaxis.set_major_formatter(PercentFormatter())\n",
    "plt.ylim(0,110)\n",
    "plt.title('Pareto de receita por produto')\n",
    "plt.show()"
   ]
  },
  {
   "cell_type": "markdown",
   "metadata": {},
   "source": [
    "### Receita combinando produto-loja"
   ]
  },
  {
   "cell_type": "code",
   "execution_count": 156,
   "metadata": {},
   "outputs": [
    {
     "name": "stderr",
     "output_type": "stream",
     "text": [
      "C:\\Users\\Pichau\\AppData\\Local\\Temp\\ipykernel_9028\\1065869325.py:4: FutureWarning: The behavior of DataFrame concatenation with empty or all-NA entries is deprecated. In a future version, this will no longer exclude empty or all-NA columns when determining the result dtypes. To retain the old behavior, exclude the relevant entries before the concat operation.\n",
      "  graf_dados = pd.concat([pd.DataFrame({\n"
     ]
    },
    {
     "data": {
      "text/html": [
       "<div>\n",
       "<style scoped>\n",
       "    .dataframe tbody tr th:only-of-type {\n",
       "        vertical-align: middle;\n",
       "    }\n",
       "\n",
       "    .dataframe tbody tr th {\n",
       "        vertical-align: top;\n",
       "    }\n",
       "\n",
       "    .dataframe thead th {\n",
       "        text-align: right;\n",
       "    }\n",
       "</style>\n",
       "<table border=\"1\" class=\"dataframe\">\n",
       "  <thead>\n",
       "    <tr style=\"text-align: right;\">\n",
       "      <th></th>\n",
       "      <th>loja</th>\n",
       "      <th>produto</th>\n",
       "      <th>receita</th>\n",
       "    </tr>\n",
       "  </thead>\n",
       "  <tbody>\n",
       "    <tr>\n",
       "      <th>0</th>\n",
       "      <td>Vitória</td>\n",
       "      <td>xxx-231a</td>\n",
       "      <td>7064.9744</td>\n",
       "    </tr>\n",
       "    <tr>\n",
       "      <th>1</th>\n",
       "      <td>Vitória</td>\n",
       "      <td>mesa</td>\n",
       "      <td>12040.0000</td>\n",
       "    </tr>\n",
       "    <tr>\n",
       "      <th>2</th>\n",
       "      <td>Vitória</td>\n",
       "      <td>cadeira</td>\n",
       "      <td>5400.0000</td>\n",
       "    </tr>\n",
       "    <tr>\n",
       "      <th>3</th>\n",
       "      <td>Vitória</td>\n",
       "      <td>carregador</td>\n",
       "      <td>2100.0000</td>\n",
       "    </tr>\n",
       "    <tr>\n",
       "      <th>4</th>\n",
       "      <td>Vitória</td>\n",
       "      <td>impressora</td>\n",
       "      <td>8400.0000</td>\n",
       "    </tr>\n",
       "    <tr>\n",
       "      <th>...</th>\n",
       "      <td>...</td>\n",
       "      <td>...</td>\n",
       "      <td>...</td>\n",
       "    </tr>\n",
       "    <tr>\n",
       "      <th>95</th>\n",
       "      <td>São Paulo</td>\n",
       "      <td>monitor</td>\n",
       "      <td>30000.0000</td>\n",
       "    </tr>\n",
       "    <tr>\n",
       "      <th>96</th>\n",
       "      <td>São Paulo</td>\n",
       "      <td>laptop gamer</td>\n",
       "      <td>63600.0000</td>\n",
       "    </tr>\n",
       "    <tr>\n",
       "      <th>97</th>\n",
       "      <td>São Paulo</td>\n",
       "      <td>laptop básico</td>\n",
       "      <td>223100.0000</td>\n",
       "    </tr>\n",
       "    <tr>\n",
       "      <th>98</th>\n",
       "      <td>São Paulo</td>\n",
       "      <td>teclado</td>\n",
       "      <td>510.0000</td>\n",
       "    </tr>\n",
       "    <tr>\n",
       "      <th>99</th>\n",
       "      <td>São Paulo</td>\n",
       "      <td>mouse</td>\n",
       "      <td>300.0000</td>\n",
       "    </tr>\n",
       "  </tbody>\n",
       "</table>\n",
       "<p>100 rows × 3 columns</p>\n",
       "</div>"
      ],
      "text/plain": [
       "         loja        produto      receita\n",
       "0     Vitória       xxx-231a    7064.9744\n",
       "1     Vitória           mesa   12040.0000\n",
       "2     Vitória        cadeira    5400.0000\n",
       "3     Vitória     carregador    2100.0000\n",
       "4     Vitória     impressora    8400.0000\n",
       "..        ...            ...          ...\n",
       "95  São Paulo        monitor   30000.0000\n",
       "96  São Paulo   laptop gamer   63600.0000\n",
       "97  São Paulo  laptop básico  223100.0000\n",
       "98  São Paulo        teclado     510.0000\n",
       "99  São Paulo          mouse     300.0000\n",
       "\n",
       "[100 rows x 3 columns]"
      ]
     },
     "execution_count": 156,
     "metadata": {},
     "output_type": "execute_result"
    }
   ],
   "source": [
    "graf_dados = pd.DataFrame(columns=('loja', 'produto', 'receita'))\n",
    "for cidade in df_lojas.cidade:\n",
    "    for produto in df_produtos.produto:\n",
    "        graf_dados = pd.concat([pd.DataFrame({\n",
    "            'loja' : [cidade],\n",
    "            'produto' : [produto],\n",
    "            'receita' : [df.produto_valor[(df.loja_cidade == cidade) & (df.produto_produto == produto)].sum()]\n",
    "        }), graf_dados], ignore_index=True)\n",
    "graf_dados"
   ]
  },
  {
   "cell_type": "code",
   "execution_count": 157,
   "metadata": {},
   "outputs": [
    {
     "data": {
      "image/png": "[encoded data removed]",
      "text/plain": [
       "<Figure size 640x480 with 2 Axes>"
      ]
     },
     "metadata": {},
     "output_type": "display_data"
    }
   ],
   "source": [
    "graf_dados = graf_dados.pivot_table(index='loja', columns='produto', values='receita', aggfunc='sum')\n",
    "sns.heatmap(graf_dados)\n",
    "plt.show()"
   ]
  },
  {
   "cell_type": "code",
   "execution_count": 158,
   "metadata": {},
   "outputs": [
    {
     "name": "stderr",
     "output_type": "stream",
     "text": [
      "C:\\Users\\Pichau\\AppData\\Local\\Temp\\ipykernel_9028\\833960867.py:4: FutureWarning: The behavior of DataFrame concatenation with empty or all-NA entries is deprecated. In a future version, this will no longer exclude empty or all-NA columns when determining the result dtypes. To retain the old behavior, exclude the relevant entries before the concat operation.\n",
      "  graf_dados = pd.concat([pd.DataFrame({\n"
     ]
    },
    {
     "data": {
      "text/html": [
       "<div>\n",
       "<style scoped>\n",
       "    .dataframe tbody tr th:only-of-type {\n",
       "        vertical-align: middle;\n",
       "    }\n",
       "\n",
       "    .dataframe tbody tr th {\n",
       "        vertical-align: top;\n",
       "    }\n",
       "\n",
       "    .dataframe thead th {\n",
       "        text-align: right;\n",
       "    }\n",
       "</style>\n",
       "<table border=\"1\" class=\"dataframe\">\n",
       "  <thead>\n",
       "    <tr style=\"text-align: right;\">\n",
       "      <th></th>\n",
       "      <th>loja</th>\n",
       "      <th>produto</th>\n",
       "      <th>receita</th>\n",
       "    </tr>\n",
       "  </thead>\n",
       "  <tbody>\n",
       "    <tr>\n",
       "      <th>87</th>\n",
       "      <td>Rio de Janeiro</td>\n",
       "      <td>laptop básico</td>\n",
       "      <td>1189100.0</td>\n",
       "    </tr>\n",
       "    <tr>\n",
       "      <th>86</th>\n",
       "      <td>Rio de Janeiro</td>\n",
       "      <td>laptop gamer</td>\n",
       "      <td>344500.0</td>\n",
       "    </tr>\n",
       "    <tr>\n",
       "      <th>37</th>\n",
       "      <td>Salvador</td>\n",
       "      <td>laptop básico</td>\n",
       "      <td>264500.0</td>\n",
       "    </tr>\n",
       "    <tr>\n",
       "      <th>27</th>\n",
       "      <td>Brasília</td>\n",
       "      <td>laptop básico</td>\n",
       "      <td>250700.0</td>\n",
       "    </tr>\n",
       "    <tr>\n",
       "      <th>7</th>\n",
       "      <td>Vitória</td>\n",
       "      <td>laptop básico</td>\n",
       "      <td>241500.0</td>\n",
       "    </tr>\n",
       "    <tr>\n",
       "      <th>...</th>\n",
       "      <td>...</td>\n",
       "      <td>...</td>\n",
       "      <td>...</td>\n",
       "    </tr>\n",
       "    <tr>\n",
       "      <th>29</th>\n",
       "      <td>Brasília</td>\n",
       "      <td>mouse</td>\n",
       "      <td>220.0</td>\n",
       "    </tr>\n",
       "    <tr>\n",
       "      <th>39</th>\n",
       "      <td>Salvador</td>\n",
       "      <td>mouse</td>\n",
       "      <td>220.0</td>\n",
       "    </tr>\n",
       "    <tr>\n",
       "      <th>59</th>\n",
       "      <td>Santa Catarina</td>\n",
       "      <td>mouse</td>\n",
       "      <td>200.0</td>\n",
       "    </tr>\n",
       "    <tr>\n",
       "      <th>69</th>\n",
       "      <td>Belo Horizonte</td>\n",
       "      <td>mouse</td>\n",
       "      <td>200.0</td>\n",
       "    </tr>\n",
       "    <tr>\n",
       "      <th>49</th>\n",
       "      <td>Recife</td>\n",
       "      <td>mouse</td>\n",
       "      <td>180.0</td>\n",
       "    </tr>\n",
       "  </tbody>\n",
       "</table>\n",
       "<p>100 rows × 3 columns</p>\n",
       "</div>"
      ],
      "text/plain": [
       "              loja        produto    receita\n",
       "87  Rio de Janeiro  laptop básico  1189100.0\n",
       "86  Rio de Janeiro   laptop gamer   344500.0\n",
       "37        Salvador  laptop básico   264500.0\n",
       "27        Brasília  laptop básico   250700.0\n",
       "7          Vitória  laptop básico   241500.0\n",
       "..             ...            ...        ...\n",
       "29        Brasília          mouse      220.0\n",
       "39        Salvador          mouse      220.0\n",
       "59  Santa Catarina          mouse      200.0\n",
       "69  Belo Horizonte          mouse      200.0\n",
       "49          Recife          mouse      180.0\n",
       "\n",
       "[100 rows x 3 columns]"
      ]
     },
     "execution_count": 158,
     "metadata": {},
     "output_type": "execute_result"
    }
   ],
   "source": [
    "graf_dados = pd.DataFrame(columns=('loja', 'produto', 'receita'))\n",
    "for cidade in df_lojas.cidade:\n",
    "    for produto in df_produtos.produto:\n",
    "        graf_dados = pd.concat([pd.DataFrame({\n",
    "            'loja': [cidade],\n",
    "            'produto': [produto],\n",
    "            'receita': [df.produto_valor[(df.loja_cidade == cidade) & (df.produto_produto==produto)].sum()]\n",
    "        }), graf_dados], ignore_index=True)\n",
    "graf_dados = graf_dados.sort_values(by='receita', ascending=False)\n",
    "graf_dados"
   ]
  },
  {
   "cell_type": "code",
   "execution_count": 159,
   "metadata": {},
   "outputs": [
    {
     "data": {
      "text/html": [
       "<div>\n",
       "<style scoped>\n",
       "    .dataframe tbody tr th:only-of-type {\n",
       "        vertical-align: middle;\n",
       "    }\n",
       "\n",
       "    .dataframe tbody tr th {\n",
       "        vertical-align: top;\n",
       "    }\n",
       "\n",
       "    .dataframe thead th {\n",
       "        text-align: right;\n",
       "    }\n",
       "</style>\n",
       "<table border=\"1\" class=\"dataframe\">\n",
       "  <thead>\n",
       "    <tr style=\"text-align: right;\">\n",
       "      <th></th>\n",
       "      <th>loja</th>\n",
       "      <th>produto</th>\n",
       "      <th>receita</th>\n",
       "      <th>lojaprod</th>\n",
       "    </tr>\n",
       "  </thead>\n",
       "  <tbody>\n",
       "    <tr>\n",
       "      <th>87</th>\n",
       "      <td>Rio de Janeiro</td>\n",
       "      <td>laptop básico</td>\n",
       "      <td>1189100.0</td>\n",
       "      <td>Rio de Janeiro-laptop básico</td>\n",
       "    </tr>\n",
       "    <tr>\n",
       "      <th>86</th>\n",
       "      <td>Rio de Janeiro</td>\n",
       "      <td>laptop gamer</td>\n",
       "      <td>344500.0</td>\n",
       "      <td>Rio de Janeiro-laptop gamer</td>\n",
       "    </tr>\n",
       "    <tr>\n",
       "      <th>37</th>\n",
       "      <td>Salvador</td>\n",
       "      <td>laptop básico</td>\n",
       "      <td>264500.0</td>\n",
       "      <td>Salvador-laptop básico</td>\n",
       "    </tr>\n",
       "    <tr>\n",
       "      <th>27</th>\n",
       "      <td>Brasília</td>\n",
       "      <td>laptop básico</td>\n",
       "      <td>250700.0</td>\n",
       "      <td>Brasília-laptop básico</td>\n",
       "    </tr>\n",
       "    <tr>\n",
       "      <th>7</th>\n",
       "      <td>Vitória</td>\n",
       "      <td>laptop básico</td>\n",
       "      <td>241500.0</td>\n",
       "      <td>Vitória-laptop básico</td>\n",
       "    </tr>\n",
       "    <tr>\n",
       "      <th>...</th>\n",
       "      <td>...</td>\n",
       "      <td>...</td>\n",
       "      <td>...</td>\n",
       "      <td>...</td>\n",
       "    </tr>\n",
       "    <tr>\n",
       "      <th>29</th>\n",
       "      <td>Brasília</td>\n",
       "      <td>mouse</td>\n",
       "      <td>220.0</td>\n",
       "      <td>Brasília-mouse</td>\n",
       "    </tr>\n",
       "    <tr>\n",
       "      <th>39</th>\n",
       "      <td>Salvador</td>\n",
       "      <td>mouse</td>\n",
       "      <td>220.0</td>\n",
       "      <td>Salvador-mouse</td>\n",
       "    </tr>\n",
       "    <tr>\n",
       "      <th>59</th>\n",
       "      <td>Santa Catarina</td>\n",
       "      <td>mouse</td>\n",
       "      <td>200.0</td>\n",
       "      <td>Santa Catarina-mouse</td>\n",
       "    </tr>\n",
       "    <tr>\n",
       "      <th>69</th>\n",
       "      <td>Belo Horizonte</td>\n",
       "      <td>mouse</td>\n",
       "      <td>200.0</td>\n",
       "      <td>Belo Horizonte-mouse</td>\n",
       "    </tr>\n",
       "    <tr>\n",
       "      <th>49</th>\n",
       "      <td>Recife</td>\n",
       "      <td>mouse</td>\n",
       "      <td>180.0</td>\n",
       "      <td>Recife-mouse</td>\n",
       "    </tr>\n",
       "  </tbody>\n",
       "</table>\n",
       "<p>100 rows × 4 columns</p>\n",
       "</div>"
      ],
      "text/plain": [
       "              loja        produto    receita                      lojaprod\n",
       "87  Rio de Janeiro  laptop básico  1189100.0  Rio de Janeiro-laptop básico\n",
       "86  Rio de Janeiro   laptop gamer   344500.0   Rio de Janeiro-laptop gamer\n",
       "37        Salvador  laptop básico   264500.0        Salvador-laptop básico\n",
       "27        Brasília  laptop básico   250700.0        Brasília-laptop básico\n",
       "7          Vitória  laptop básico   241500.0         Vitória-laptop básico\n",
       "..             ...            ...        ...                           ...\n",
       "29        Brasília          mouse      220.0                Brasília-mouse\n",
       "39        Salvador          mouse      220.0                Salvador-mouse\n",
       "59  Santa Catarina          mouse      200.0          Santa Catarina-mouse\n",
       "69  Belo Horizonte          mouse      200.0          Belo Horizonte-mouse\n",
       "49          Recife          mouse      180.0                  Recife-mouse\n",
       "\n",
       "[100 rows x 4 columns]"
      ]
     },
     "execution_count": 159,
     "metadata": {},
     "output_type": "execute_result"
    }
   ],
   "source": [
    "graf_dados['lojaprod'] = graf_dados.loja + '-' + graf_dados.produto\n",
    "graf_dados"
   ]
  },
  {
   "cell_type": "code",
   "execution_count": 160,
   "metadata": {},
   "outputs": [
    {
     "data": {
      "image/png": "[encoded data removed]",
      "text/plain": [
       "<Figure size 1500x500 with 1 Axes>"
      ]
     },
     "metadata": {},
     "output_type": "display_data"
    }
   ],
   "source": [
    "# Filtrando pelos produtos que tenham mais do que 1% da receita maxima\n",
    "plt.figure(figsize=(15,5))\n",
    "plt.bar(graf_dados.lojaprod[graf_dados.receita>0.01*graf_dados.receita.max()], graf_dados.receita[graf_dados.receita>0.01*graf_dados.receita.max()])\n",
    "plt.xticks(rotation=90)\n",
    "plt.title('Receita por loja-produto')\n",
    "plt.show()"
   ]
  },
  {
   "cell_type": "markdown",
   "metadata": {},
   "source": [
    "### Análise de tempo"
   ]
  },
  {
   "cell_type": "markdown",
   "metadata": {},
   "source": [
    "#### Tempo médio de pagamento"
   ]
  },
  {
   "cell_type": "code",
   "execution_count": 161,
   "metadata": {},
   "outputs": [
    {
     "data": {
      "text/plain": [
       "22.47200772200772"
      ]
     },
     "execution_count": 161,
     "metadata": {},
     "output_type": "execute_result"
    }
   ],
   "source": [
    "df.tempo_pg.mean()"
   ]
  },
  {
   "cell_type": "code",
   "execution_count": 163,
   "metadata": {},
   "outputs": [
    {
     "data": {
      "image/png": "[encoded data removed]",
      "text/plain": [
       "<Figure size 640x480 with 1 Axes>"
      ]
     },
     "metadata": {},
     "output_type": "display_data"
    }
   ],
   "source": [
    "df.boxplot('tempo_pg')\n",
    "plt.title('Boxplot para tempo de pagamento')\n",
    "plt.show()"
   ]
  },
  {
   "cell_type": "code",
   "execution_count": 165,
   "metadata": {},
   "outputs": [
    {
     "data": {
      "image/png": "[encoded data removed]",
      "text/plain": [
       "<Figure size 640x480 with 1 Axes>"
      ]
     },
     "metadata": {},
     "output_type": "display_data"
    }
   ],
   "source": [
    "sns.histplot(data=df.tempo_pg, kde=True)\n",
    "plt.title('Histograma para tempo de pagamento')\n",
    "plt.show()"
   ]
  },
  {
   "cell_type": "code",
   "execution_count": 166,
   "metadata": {},
   "outputs": [
    {
     "data": {
      "text/plain": [
       "count    2072.000000\n",
       "mean       22.472008\n",
       "std        13.256384\n",
       "min         0.000000\n",
       "25%        11.000000\n",
       "50%        22.000000\n",
       "75%        34.000000\n",
       "max        45.000000\n",
       "Name: tempo_pg, dtype: float64"
      ]
     },
     "execution_count": 166,
     "metadata": {},
     "output_type": "execute_result"
    }
   ],
   "source": [
    "df.tempo_pg.describe()"
   ]
  },
  {
   "cell_type": "markdown",
   "metadata": {},
   "source": [
    "Não existe uma previsibilidade de pagamento, os dados estão distribuídos quase que igualmente entre 0 e 40 dias\n"
   ]
  },
  {
   "cell_type": "code",
   "execution_count": null,
   "metadata": {},
   "outputs": [],
   "source": []
  }
 ],
 "metadata": {
  "kernelspec": {
   "display_name": "Python 3",
   "language": "python",
   "name": "python3"
  },
  "language_info": {
   "codemirror_mode": {
    "name": "ipython",
    "version": 3
   },
   "file_extension": ".py",
   "mimetype": "text/x-python",
   "name": "python",
   "nbconvert_exporter": "python",
   "pygments_lexer": "ipython3",
   "version": "3.11.6"
  }
 },
 "nbformat": 4,
 "nbformat_minor": 2
}
